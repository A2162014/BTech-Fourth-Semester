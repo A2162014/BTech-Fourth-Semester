{
 "cells": [
  {
   "cell_type": "code",
   "execution_count": 1,
   "metadata": {},
   "outputs": [
    {
     "name": "stdout",
     "output_type": "stream",
     "text": [
      "1005\n",
      "1020\n",
      "1035\n",
      "1050\n",
      "1065\n",
      "1080\n",
      "1095\n",
      "1110\n",
      "1125\n",
      "1140\n",
      "1155\n",
      "1170\n",
      "1185\n",
      "1200\n",
      "1215\n",
      "1230\n",
      "1245\n",
      "1260\n",
      "1275\n",
      "1290\n",
      "1305\n",
      "1320\n",
      "1335\n",
      "1350\n",
      "1365\n",
      "1380\n",
      "1395\n",
      "1410\n",
      "1425\n",
      "1440\n",
      "1455\n",
      "1470\n",
      "1485\n",
      "1500\n",
      "1515\n",
      "1530\n",
      "1545\n",
      "1560\n",
      "1575\n",
      "1590\n",
      "1605\n",
      "1620\n",
      "1635\n",
      "1650\n",
      "1665\n",
      "1680\n",
      "1695\n",
      "1710\n",
      "1725\n",
      "1740\n",
      "1755\n",
      "1770\n",
      "1785\n",
      "1800\n",
      "1815\n",
      "1830\n",
      "1845\n",
      "1860\n",
      "1875\n",
      "1890\n",
      "1905\n",
      "1920\n",
      "1935\n",
      "1950\n",
      "1965\n",
      "1980\n",
      "1995\n"
     ]
    }
   ],
   "source": [
    "for num in range(1000, 2001):\n",
    "    if num % 3 == 0 and num % 5 == 0:\n",
    "        print(num)"
   ]
  },
  {
   "cell_type": "code",
   "execution_count": 2,
   "metadata": {},
   "outputs": [
    {
     "name": "stdout",
     "output_type": "stream",
     "text": [
      "Sum of odd numbers for the first 20 natural numbers: 100\n",
      "Sum of even numbers for the first 20 natural numbers: 110\n"
     ]
    }
   ],
   "source": [
    "n = int(input(\"Enter the value of n: \"))\n",
    "odd_sum = 0\n",
    "even_sum = 0\n",
    "for i in range(1, n+1):\n",
    "    if i % 2 == 0:\n",
    "        even_sum += i\n",
    "    else:\n",
    "        odd_sum += i\n",
    "print(\"Sum of odd numbers for the first\", n, \"natural numbers:\", odd_sum)\n",
    "print(\"Sum of even numbers for the first\", n, \"natural numbers:\", even_sum)"
   ]
  },
  {
   "cell_type": "code",
   "execution_count": 3,
   "metadata": {},
   "outputs": [
    {
     "name": "stdout",
     "output_type": "stream",
     "text": [
      "Fibonacci series:\n",
      "0\n",
      "1\n",
      "1\n",
      "2\n",
      "3\n",
      "5\n",
      "8\n",
      "13\n",
      "21\n",
      "34\n",
      "55\n",
      "89\n",
      "144\n",
      "233\n",
      "377\n",
      "610\n",
      "987\n",
      "1597\n",
      "2584\n",
      "4181\n",
      "6765\n",
      "10946\n",
      "17711\n",
      "28657\n",
      "46368\n",
      "75025\n",
      "121393\n",
      "196418\n",
      "317811\n",
      "514229\n",
      "832040\n",
      "1346269\n",
      "2178309\n",
      "3524578\n",
      "5702887\n",
      "9227465\n",
      "14930352\n",
      "24157817\n",
      "39088169\n",
      "63245986\n",
      "102334155\n",
      "165580141\n",
      "267914296\n",
      "433494437\n",
      "701408733\n",
      "1134903170\n",
      "1836311903\n",
      "2971215073\n",
      "4807526976\n",
      "7778742049\n",
      "12586269025\n"
     ]
    }
   ],
   "source": [
    "a, b = 0, 1\n",
    "print(\"Fibonacci series:\")\n",
    "for i in range(51):\n",
    "  print(a)\n",
    "  a, b = b, a + b"
   ]
  },
  {
   "cell_type": "code",
   "execution_count": 10,
   "metadata": {},
   "outputs": [
    {
     "name": "stdout",
     "output_type": "stream",
     "text": [
      "The number, 121 ,is a palindrome.\n"
     ]
    }
   ],
   "source": [
    "original_number = int(input(\"Enter a number: \"))\n",
    "number = original_number\n",
    "\n",
    "reverse = 0\n",
    "while number > 0:\n",
    "    last_digit = number % 10\n",
    "    reverse = (reverse * 10) + last_digit\n",
    "    number = number // 10\n",
    "\n",
    "if original_number == reverse:\n",
    "    print(\"The number,\",original_number,\",is a palindrome.\")\n",
    "else:\n",
    "    print(\"The number,\", original_number,\",is not a palindrome.\")\n"
   ]
  },
  {
   "cell_type": "code",
   "execution_count": 5,
   "metadata": {},
   "outputs": [
    {
     "name": "stdout",
     "output_type": "stream",
     "text": [
      "The sum of all the multiples of 3 or 5 below 100 is: 2318\n"
     ]
    }
   ],
   "source": [
    "sum = 0\n",
    "for i in range(1, 100):\n",
    "    if i % 3 == 0 or i % 5 == 0:\n",
    "        sum += i\n",
    "print(\"The sum of all the multiples of 3 or 5 below 100 is:\", sum)"
   ]
  },
  {
   "cell_type": "code",
   "execution_count": 20,
   "metadata": {},
   "outputs": [
    {
     "name": "stdout",
     "output_type": "stream",
     "text": [
      "[2, 3, 5, 7, 11, 13, 17, 19, 23, 29, 31, 37, 41, 43, 47, 53, 59, 61, 67, 71, 73, 79, 83, 89, 97]\n"
     ]
    }
   ],
   "source": [
    "primes = []\n",
    "\n",
    "for num in range(2,101):\n",
    "    is_prime = True\n",
    "    for i in range(2,num):\n",
    "        if num % i == 0:\n",
    "            is_prime = False\n",
    "            break\n",
    "    if is_prime:\n",
    "        primes.append(num)\n",
    "\n",
    "print(primes)\n"
   ]
  }
 ],
 "metadata": {
  "kernelspec": {
   "display_name": "Python 3",
   "language": "python",
   "name": "python3"
  },
  "language_info": {
   "codemirror_mode": {
    "name": "ipython",
    "version": 3
   },
   "file_extension": ".py",
   "mimetype": "text/x-python",
   "name": "python",
   "nbconvert_exporter": "python",
   "pygments_lexer": "ipython3",
   "version": "3.11.1"
  },
  "orig_nbformat": 4,
  "vscode": {
   "interpreter": {
    "hash": "a228d6f4063c691ded3b5735800af581f06a9ab465b764de0a73c7911eb86ddf"
   }
  }
 },
 "nbformat": 4,
 "nbformat_minor": 2
}

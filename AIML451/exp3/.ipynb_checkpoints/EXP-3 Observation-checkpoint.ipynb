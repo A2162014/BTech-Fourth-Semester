{
 "cells": [
  {
   "cell_type": "markdown",
   "id": "e220f10c",
   "metadata": {},
   "source": [
    "# 1. Write a program to determine whether a person is eligible to vote."
   ]
  },
  {
   "cell_type": "code",
   "execution_count": null,
   "id": "4cea3316",
   "metadata": {},
   "outputs": [],
   "source": [
    "age = int(input('Enter your Age:'))\n",
    "if age>18:\n",
    "    print('You are eligible to vote')"
   ]
  },
  {
   "cell_type": "markdown",
   "id": "ceb7bd74",
   "metadata": {},
   "source": [
    "# 2. Write a program to determine whether a number is positive."
   ]
  },
  {
   "cell_type": "code",
   "execution_count": null,
   "id": "f3308ec8",
   "metadata": {},
   "outputs": [],
   "source": [
    "num = int (input(\"Enter a number: \"))\n",
    "if (num > 0):\n",
    "    print (\"It is a Positive number\")"
   ]
  },
  {
   "cell_type": "markdown",
   "id": "0797f449",
   "metadata": {},
   "source": [
    "# 3. Write a program to find the greater of two numbers"
   ]
  },
  {
   "cell_type": "code",
   "execution_count": null,
   "id": "50b6e6d4",
   "metadata": {},
   "outputs": [],
   "source": [
    "number1 = int(input(\"Enter the first number: \"))\n",
    "number2 = int(input(\"Enter the second number: \"))\n",
    "if (number1>number2):\n",
    "    large=number1\n",
    "else:\n",
    "    large=number2\n",
    "print('Large=',large)"
   ]
  },
  {
   "cell_type": "markdown",
   "id": "d387d195",
   "metadata": {},
   "source": [
    "# 4. Write a program to find if a number is an Odd number or Even number."
   ]
  },
  {
   "cell_type": "code",
   "execution_count": null,
   "id": "4b62e383",
   "metadata": {},
   "outputs": [],
   "source": [
    "num = int(input(\"Enter a number: \"))\n",
    "if (num % 2 == 0):\n",
    "    print ('It is an Even number')\n",
    "else: \n",
    "    print('It is an Odd number')"
   ]
  },
  {
   "cell_type": "markdown",
   "id": "8e197ab5",
   "metadata": {},
   "source": [
    "# 5. Write a program to determine whether a number is a positive or negative number"
   ]
  },
  {
   "cell_type": "code",
   "execution_count": null,
   "id": "0e21f214",
   "metadata": {},
   "outputs": [],
   "source": [
    "num = int (input(\"Enter a number: \"))\n",
    "if (num >= 0):\n",
    "    if (num==0):\n",
    "        print(\"The number is Zero\") \n",
    "    else:\n",
    "        print(\"The number is Positive\")\n",
    "else:\n",
    "    print(\"The number is Negative\")"
   ]
  },
  {
   "cell_type": "markdown",
   "id": "cb2502eb",
   "metadata": {},
   "source": [
    "# 6. Write a program that prompts the user to enter a number and then print its interval."
   ]
  },
  {
   "cell_type": "code",
   "execution_count": null,
   "id": "1a1889a5",
   "metadata": {},
   "outputs": [],
   "source": [
    "number = float(input(\"Enter a number: \"))\n",
    "\n",
    "if number < -100:\n",
    "    print(\"The number is less than -100.\")\n",
    "elif -100 <= number < 0:\n",
    "    print(\"The number is in the interval [-100, 0).\")\n",
    "elif number == 0:\n",
    "    print(\"The number is zero.\")\n",
    "elif 0 < number < 100:\n",
    "    print(\"The number is in the interval [0, 100).\")\n",
    "else:\n",
    "    print(\"The number is greater than or equal to 100.\")"
   ]
  },
  {
   "cell_type": "markdown",
   "id": "781c5526",
   "metadata": {},
   "source": [
    "# 7. Write a program to determine the grade of a student based on marks"
   ]
  },
  {
   "cell_type": "code",
   "execution_count": null,
   "id": "61d1a23e",
   "metadata": {},
   "outputs": [],
   "source": [
    "print ('Enter the marks:')\n",
    "maths = int(input(\"Enter the Maths mark: \"))\n",
    "phy = int(input(\"Enter the Physics mark: \"))\n",
    "chem = int(input(\"Enter the Chemistry mark: \"))\n",
    "cs = int(input(\"Enter the Computer Science mark: \"))\n",
    "tot = maths + phy + chem + cs\n",
    "avg = tot / 4\n",
    "if (avg>90):\n",
    "    print (\"Grade is 'A'\")\n",
    "elif ((avg>80) and (avg<=90)):\n",
    "    print (\"Grade is 'B'\")\n",
    "elif ((avg>70) and (avg<=80)):\n",
    "    print (\"Grade is 'C'\")\n",
    "elif ((avg>60) and (avg<=70)):\n",
    "    print (\"Grade is 'D'\")\n",
    "elif ((avg>50) and (avg<=60)):\n",
    "    print (\"Grade is 'E'\")\n",
    "else:\n",
    "    print(\"Fail\")"
   ]
  },
  {
   "cell_type": "markdown",
   "id": "f9f833d8",
   "metadata": {},
   "source": [
    "#  8. Write a program to determine whether the character entered is a vowel or not. "
   ]
  },
  {
   "cell_type": "code",
   "execution_count": null,
   "id": "f05b6471",
   "metadata": {},
   "outputs": [],
   "source": [
    "ch=input('Enter any character:'')\n",
    "if(ch=='A' or ch=='E' or ch=='I' or ch=='O' or ch=='U'):\n",
    "    print(ch, “is a vowel”)\n",
    "elif(ch=='a' or ch=='e' or ch=='i' or ch=='o' or ch=='u'):\n",
    "    print(ch, 'is a vowel')\n",
    "else:\n",
    "    print(ch, 'is not a vowel')"
   ]
  },
  {
   "cell_type": "markdown",
   "id": "0dc24531",
   "metadata": {},
   "source": [
    "# 9. Write a program to calculate tax given the following conditions: (Observation)\n",
    "# If income is less than 1,50,000 then no tax\n",
    "# If taxable income is 1,50,001-3,00,000 then charge 10% tax\n",
    "# If taxable income is 3,00,001-5,00,000 then charge 20% tax\n",
    "# If taxable income is above 5,00,001 then charge 30% tax"
   ]
  },
  {
   "cell_type": "code",
   "execution_count": null,
   "id": "a386c4e8",
   "metadata": {},
   "outputs": [],
   "source": [
    "MIN1=150001\n",
    "MAX1=300000\n",
    "RATE1=0.10\n",
    "MIN2=300001\n",
    "MAX2=500000\n",
    "RATE2=0.20\n",
    "MIN3=500001\n",
    "RATE3=0.30\n",
    "income=int(input('Enter the income:'))\n",
    "taxable_income=income-150000\n",
    "if(taxable_income<=0):\n",
    "    tax=0\n",
    "    elif(taxable_income>=MIN1 and taxable_income<MAX1):\n",
    "        tax=(taxable_income-MIN1)*RATE1\n",
    "    elif(taxable_income>=MIN2 and taxable_income<MAX2):\n",
    "        tax=(taxable_income-MIN2)*RATE2\n",
    "else:\n",
    "    tax=(taxable_income-MIN3)*RATE3\n",
    "print('TAX=',tax)"
   ]
  }
 ],
 "metadata": {
  "kernelspec": {
   "display_name": "Python 3 (ipykernel)",
   "language": "python",
   "name": "python3"
  },
  "language_info": {
   "codemirror_mode": {
    "name": "ipython",
    "version": 3
   },
   "file_extension": ".py",
   "mimetype": "text/x-python",
   "name": "python",
   "nbconvert_exporter": "python",
   "pygments_lexer": "ipython3",
   "version": "3.10.8"
  }
 },
 "nbformat": 4,
 "nbformat_minor": 5
}

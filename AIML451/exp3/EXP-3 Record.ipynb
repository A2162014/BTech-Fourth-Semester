{
 "cells": [
  {
   "cell_type": "code",
   "execution_count": 1,
   "id": "c57a821d",
   "metadata": {},
   "outputs": [
    {
     "name": "stdout",
     "output_type": "stream",
     "text": [
      "Enter your salary: 5222\n",
      "Enter your years of service: 6\n",
      "Your bonus amount is $261.10\n"
     ]
    }
   ],
   "source": [
    "\"\"\"\n",
    "1. A company decided to give bonus of 5% to employee if his/her year of service is more than 5 \n",
    "years. Ask user for their salary and year of service and print the net bonus amount.\n",
    "\"\"\"\n",
    "\n",
    "salary = float(input(\"Enter your salary: \"))\n",
    "service = int(input(\"Enter your years of service: \"))\n",
    "\n",
    "if service > 5:\n",
    "    bonus = salary * 0.05\n",
    "    print(\"Your bonus amount is $%.2f\" % bonus)\n",
    "else:\n",
    "    print(\"You are not eligible for a bonus.\")\n"
   ]
  },
  {
   "cell_type": "code",
   "execution_count": 2,
   "id": "0bd2bd8e",
   "metadata": {},
   "outputs": [
    {
     "name": "stdout",
     "output_type": "stream",
     "text": [
      "Enter the length of the rectangle: 5\n",
      "Enter the breadth of the rectangle: 5\n",
      "The rectangle is a square.\n"
     ]
    }
   ],
   "source": [
    "\"\"\"\n",
    "2. Take values of length and breadth of a rectangle from user and check if it is square or not.\n",
    "\"\"\"\n",
    "\n",
    "length = int(input(\"Enter the length of the rectangle: \"))\n",
    "breadth = int(input(\"Enter the breadth of the rectangle: \"))\n",
    "\n",
    "if length == breadth:\n",
    "    print(\"The rectangle is a square.\")\n",
    "else:\n",
    "    print(\"The rectangle is not a square.\")"
   ]
  },
  {
   "cell_type": "code",
   "execution_count": 3,
   "id": "bd0cb7f7",
   "metadata": {},
   "outputs": [
    {
     "name": "stdout",
     "output_type": "stream",
     "text": [
      "Enter the quantity: 995\n",
      "Total cost: 89550.0\n"
     ]
    }
   ],
   "source": [
    "\"\"\"\n",
    "3. A shop will give discount of 10% if the cost of purchased quantity is more than 1000. Ask \n",
    "user for quantity Suppose, one unit will cost 100. Judge and print total cost for user.\n",
    "\"\"\"\n",
    "\n",
    "# ask the user for quantity\n",
    "quantity = int(input(\"Enter the quantity: \"))\n",
    "\n",
    "# calculate the cost\n",
    "cost = quantity * 100\n",
    "\n",
    "# check if the cost is more than 1000\n",
    "if cost > 1000:\n",
    "    # if yes, give a discount of 10%\n",
    "    cost = cost * 0.9\n",
    "\n",
    "# print the total cost\n",
    "print(\"Total cost:\", cost)\n"
   ]
  },
  {
   "cell_type": "code",
   "execution_count": 5,
   "id": "9c631d12",
   "metadata": {},
   "outputs": [
    {
     "name": "stdout",
     "output_type": "stream",
     "text": [
      "Enter your marks: 95\n",
      "A\n"
     ]
    }
   ],
   "source": [
    "\"\"\"\n",
    "4. A school has following rules for grading system: \n",
    "a. Below 25 – F \n",
    "b. 25 to 45 – E \n",
    "c. 45 to 50 – D \n",
    "d. 50 to 60 – C \n",
    "e. 60 to 80 – B\n",
    "f. Above 80 – A \n",
    "Ask user to enter marks and print the corresponding grade.\n",
    "\"\"\"\n",
    "\n",
    "marks = int(input(\"Enter your marks: \"))\n",
    "\n",
    "if marks < 25:\n",
    "    print(\"F\")\n",
    "elif marks >= 25 and marks < 45:\n",
    "    print(\"E\")\n",
    "elif marks >= 45 and marks < 50:\n",
    "    print(\"D\")  \n",
    "elif marks >= 50 and marks < 60:\n",
    "    print(\"C\")\n",
    "elif marks >= 60 and marks < 80:\n",
    "    print(\"B\")\n",
    "else:\n",
    "    print(\"A\")\n"
   ]
  },
  {
   "cell_type": "code",
   "execution_count": 6,
   "id": "3f881e30",
   "metadata": {},
   "outputs": [
    {
     "name": "stdout",
     "output_type": "stream",
     "text": [
      "Enter the number of classes held: 65\n",
      "Enter the number of classes attended: 45\n",
      "Attendance Percentage:  69.23076923076923 %\n",
      "Sorry, You are not allowed to sit in exam.\n"
     ]
    }
   ],
   "source": [
    "\"\"\"\n",
    "5. A student will not be allowed to sit in exam if his/her attendance is less than 75%. Take \n",
    "following input from user \n",
    "Number of classes held \n",
    "Number of classes attended. \n",
    "And print percentage of class attended \n",
    "Is student is allowed to sit in exam or not\n",
    "\"\"\"\n",
    "\n",
    "# Input from user\n",
    "held = int(input(\"Enter the number of classes held: \"))\n",
    "attended = int(input(\"Enter the number of classes attended: \"))\n",
    "\n",
    "# Calculate attendance percentage\n",
    "attendance_percentage = (attended / held) * 100\n",
    "\n",
    "# Check eligibility for exam\n",
    "if attendance_percentage < 75:\n",
    "    print(\"Attendance Percentage: \", attendance_percentage, \"%\")\n",
    "    print(\"Sorry, You are not allowed to sit in exam.\")\n",
    "else:\n",
    "    print(\"Attendance Percentage: \", attendance_percentage, \"%\")\n",
    "    print(\"Congratulations! You are eligible to sit in exam.\")\n"
   ]
  }
 ],
 "metadata": {
  "kernelspec": {
   "display_name": "Python 3",
   "language": "python",
   "name": "python3"
  },
  "language_info": {
   "codemirror_mode": {
    "name": "ipython",
    "version": 3
   },
   "file_extension": ".py",
   "mimetype": "text/x-python",
   "name": "python",
   "nbconvert_exporter": "python",
   "pygments_lexer": "ipython3",
   "version": "3.11.1 (tags/v3.11.1:a7a450f, Dec  6 2022, 19:58:39) [MSC v.1934 64 bit (AMD64)]"
  },
  "vscode": {
   "interpreter": {
    "hash": "a228d6f4063c691ded3b5735800af581f06a9ab465b764de0a73c7911eb86ddf"
   }
  }
 },
 "nbformat": 4,
 "nbformat_minor": 5
}

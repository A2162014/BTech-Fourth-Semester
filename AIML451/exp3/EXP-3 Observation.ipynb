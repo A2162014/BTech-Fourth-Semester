{
 "cells": [
  {
   "cell_type": "markdown",
   "id": "779ae47c",
   "metadata": {},
   "source": [
    "# 1. Write a program to determine whether a person is eligible to vote."
   ]
  },
  {
   "cell_type": "code",
   "execution_count": 14,
   "id": "0613b1c3",
   "metadata": {},
   "outputs": [
    {
     "name": "stdout",
     "output_type": "stream",
     "text": [
      "Enter your Age:20\n",
      "You are eligible to vote\n"
     ]
    }
   ],
   "source": [
    "age = int(input('Enter your Age:'))\n",
    "if age>18:\n",
    "    print('You are eligible to vote')"
   ]
  },
  {
   "cell_type": "markdown",
   "id": "0a10c85e",
   "metadata": {},
   "source": [
    "# 2. Write a program to determine whether a number is positive."
   ]
  },
  {
   "cell_type": "code",
   "execution_count": 15,
   "id": "6446305b",
   "metadata": {},
   "outputs": [
    {
     "name": "stdout",
     "output_type": "stream",
     "text": [
      "Enter a number: 64\n",
      "It is a Positive number\n"
     ]
    }
   ],
   "source": [
    "num = int (input(\"Enter a number: \"))\n",
    "if (num > 0):\n",
    "    print (\"It is a Positive number\")"
   ]
  },
  {
   "cell_type": "markdown",
   "id": "86d674c2",
   "metadata": {},
   "source": [
    "# 3. Write a program to find the greater of two numbers"
   ]
  },
  {
   "cell_type": "code",
   "execution_count": 16,
   "id": "eea4218e",
   "metadata": {},
   "outputs": [
    {
     "name": "stdout",
     "output_type": "stream",
     "text": [
      "Enter the first number: 32\n",
      "Enter the second number: 59\n",
      "Large= 59\n"
     ]
    }
   ],
   "source": [
    "number1 = int(input(\"Enter the first number: \"))\n",
    "number2 = int(input(\"Enter the second number: \"))\n",
    "if (number1>number2):\n",
    "    large=number1\n",
    "else:\n",
    "    large=number2\n",
    "print('Large=',large)"
   ]
  },
  {
   "cell_type": "markdown",
   "id": "b0971e89",
   "metadata": {},
   "source": [
    "# 4. Write a program to find if a number is an Odd number or Even number."
   ]
  },
  {
   "cell_type": "code",
   "execution_count": 17,
   "id": "e720aeed",
   "metadata": {},
   "outputs": [
    {
     "name": "stdout",
     "output_type": "stream",
     "text": [
      "Enter a number: 16\n",
      "It is an Even number\n"
     ]
    }
   ],
   "source": [
    "num = int(input(\"Enter a number: \"))\n",
    "if (num % 2 == 0):\n",
    "    print ('It is an Even number')\n",
    "else: \n",
    "    print('It is an Odd number')"
   ]
  },
  {
   "cell_type": "markdown",
   "id": "4da08def",
   "metadata": {},
   "source": [
    "# 5. Write a program to determine whether a number is a positive or negative number"
   ]
  },
  {
   "cell_type": "code",
   "execution_count": 18,
   "id": "d829ac42",
   "metadata": {},
   "outputs": [
    {
     "name": "stdout",
     "output_type": "stream",
     "text": [
      "Enter a number: -78\n",
      "The number is Negative\n"
     ]
    }
   ],
   "source": [
    "num = int (input(\"Enter a number: \"))\n",
    "if (num >= 0):\n",
    "    if (num==0):\n",
    "        print(\"The number is Zero\") \n",
    "    else:\n",
    "        print(\"The number is Positive\")\n",
    "else:\n",
    "    print(\"The number is Negative\")"
   ]
  },
  {
   "cell_type": "markdown",
   "id": "b7285bd6",
   "metadata": {},
   "source": [
    "# 6. Write a program that prompts the user to enter a number and then print its interval."
   ]
  },
  {
   "cell_type": "code",
   "execution_count": 19,
   "id": "70d1ce8d",
   "metadata": {},
   "outputs": [
    {
     "name": "stdout",
     "output_type": "stream",
     "text": [
      "Enter a number: -95\n",
      "The number is in the interval [-100, 0).\n"
     ]
    }
   ],
   "source": [
    "number = float(input(\"Enter a number: \"))\n",
    "\n",
    "if number < -100:\n",
    "    print(\"The number is less than -100.\")\n",
    "elif -100 <= number < 0:\n",
    "    print(\"The number is in the interval [-100, 0).\")\n",
    "elif number == 0:\n",
    "    print(\"The number is zero.\")\n",
    "elif 0 < number < 100:\n",
    "    print(\"The number is in the interval [0, 100).\")\n",
    "else:\n",
    "    print(\"The number is greater than or equal to 100.\")"
   ]
  },
  {
   "cell_type": "markdown",
   "id": "b993222c",
   "metadata": {},
   "source": [
    "# 7. Write a program to determine the grade of a student based on marks"
   ]
  },
  {
   "cell_type": "code",
   "execution_count": 20,
   "id": "8e97e42c",
   "metadata": {},
   "outputs": [
    {
     "name": "stdout",
     "output_type": "stream",
     "text": [
      "Enter the marks:\n",
      "Enter the Maths mark: 95\n",
      "Enter the Physics mark: 96\n",
      "Enter the Chemistry mark: 84\n",
      "Enter the Computer Science mark: 87\n",
      "Grade is 'A'\n"
     ]
    }
   ],
   "source": [
    "print ('Enter the marks:')\n",
    "maths = int(input(\"Enter the Maths mark: \"))\n",
    "phy = int(input(\"Enter the Physics mark: \"))\n",
    "chem = int(input(\"Enter the Chemistry mark: \"))\n",
    "cs = int(input(\"Enter the Computer Science mark: \"))\n",
    "tot = maths + phy + chem + cs\n",
    "avg = tot / 4\n",
    "if (avg>90):\n",
    "    print (\"Grade is 'A'\")\n",
    "elif ((avg>80) and (avg<=90)):\n",
    "    print (\"Grade is 'B'\")\n",
    "elif ((avg>70) and (avg<=80)):\n",
    "    print (\"Grade is 'C'\")\n",
    "elif ((avg>60) and (avg<=70)):\n",
    "    print (\"Grade is 'D'\")\n",
    "elif ((avg>50) and (avg<=60)):\n",
    "    print (\"Grade is 'E'\")\n",
    "else:\n",
    "    print(\"Fail\")"
   ]
  },
  {
   "cell_type": "markdown",
   "id": "2efd78e3",
   "metadata": {},
   "source": [
    "#  8. Write a program to determine whether the character entered is a vowel or not. "
   ]
  },
  {
   "cell_type": "code",
   "execution_count": 21,
   "id": "82baf7a0",
   "metadata": {},
   "outputs": [
    {
     "name": "stdout",
     "output_type": "stream",
     "text": [
      "Enter any character:e\n",
      "e is a vowel\n"
     ]
    }
   ],
   "source": [
    "ch=input('Enter any character:')\n",
    "if(ch=='A' or ch=='E' or ch=='I' or ch=='O' or ch=='U'):\n",
    "    print(ch, 'is a vowel')\n",
    "elif(ch=='a' or ch=='e' or ch=='i' or ch=='o' or ch=='u'):\n",
    "    print(ch, 'is a vowel')\n",
    "else:\n",
    "    print(ch, 'is not a vowel')"
   ]
  },
  {
   "cell_type": "markdown",
   "id": "7325229c",
   "metadata": {},
   "source": [
    "# 9. Write a program to calculate tax given the following conditions: (Observation)\n",
    "# If income is less than 1,50,000 then no tax\n",
    "# If taxable income is 1,50,001-3,00,000 then charge 10% tax\n",
    "# If taxable income is 3,00,001-5,00,000 then charge 20% tax\n",
    "# If taxable income is above 5,00,001 then charge 30% tax"
   ]
  },
  {
   "cell_type": "code",
   "execution_count": 22,
   "id": "85acb95a",
   "metadata": {},
   "outputs": [
    {
     "name": "stdout",
     "output_type": "stream",
     "text": [
      "Enter the income:955552\n",
      "TAX= 91665.3\n"
     ]
    }
   ],
   "source": [
    "MIN1 = 150001\n",
    "MAX1 = 300000\n",
    "RATE1 = 0.10\n",
    "MIN2 = 300001\n",
    "MAX2 = 500000\n",
    "RATE2 = 0.20\n",
    "MIN3 = 500001\n",
    "RATE3 = 0.30\n",
    "income = int(input('Enter the income:'))\n",
    "taxable_income = income - 150000\n",
    "if taxable_income <= 0:\n",
    "    tax = 0\n",
    "elif taxable_income >= MIN1 and taxable_income <= MAX1:\n",
    "    tax = (taxable_income - MIN1) * RATE1\n",
    "elif taxable_income >= MIN2 and taxable_income <= MAX2:\n",
    "    tax = (taxable_income - MIN2) * RATE2\n",
    "else:\n",
    "    tax = (taxable_income - MIN3) * RATE3\n",
    "print('TAX=', tax)"
   ]
  }
 ],
 "metadata": {
  "kernelspec": {
   "display_name": "Python 3",
   "language": "python",
   "name": "python3"
  },
  "language_info": {
   "codemirror_mode": {
    "name": "ipython",
    "version": 3
   },
   "file_extension": ".py",
   "mimetype": "text/x-python",
   "name": "python",
   "nbconvert_exporter": "python",
   "pygments_lexer": "ipython3",
   "version": "3.11.1 (tags/v3.11.1:a7a450f, Dec  6 2022, 19:58:39) [MSC v.1934 64 bit (AMD64)]"
  },
  "vscode": {
   "interpreter": {
    "hash": "a228d6f4063c691ded3b5735800af581f06a9ab465b764de0a73c7911eb86ddf"
   }
  }
 },
 "nbformat": 4,
 "nbformat_minor": 5
}

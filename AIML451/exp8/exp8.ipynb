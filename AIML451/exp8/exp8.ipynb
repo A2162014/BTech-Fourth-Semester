{
 "cells": [
  {
   "cell_type": "markdown",
   "metadata": {},
   "source": [
    "# Write a Python program to perform read and write operations on a file."
   ]
  },
  {
   "cell_type": "code",
   "execution_count": 1,
   "metadata": {},
   "outputs": [
    {
     "name": "stdout",
     "output_type": "stream",
     "text": [
      "Python Programming Lab Manual\n"
     ]
    }
   ],
   "source": [
    "# # Program to write data into a file and read it.\n",
    "# str=input(\"Enter the data into a file:\")\n",
    "# f1=open('abc.txt','w')\n",
    "# f1.write(str)\n",
    "# f1.close()\n",
    "# f2=open('abc.txt','r')\n",
    "# data=f2.read()\n",
    "# print(data)\n",
    "# f2.close()"
   ]
  },
  {
   "cell_type": "code",
   "execution_count": 2,
   "metadata": {},
   "outputs": [
    {
     "name": "stdout",
     "output_type": "stream",
     "text": [
      "Computer science Engineering\n",
      "Elecronics and Communication Engineering\n",
      "Civil Engineering\n",
      "\n"
     ]
    }
   ],
   "source": [
    "# # Program to write multiple lines of data into a file and read it.\n",
    "# filename =input(\"Enter the file name : \")\n",
    "# f1=open(filename,'w')\n",
    "# f1.write('Computer science Engineering\\n')\n",
    "# f1.write('Elecronics and Communication Engineering\\n')\n",
    "# f1.write('Civil Engineering\\n')\n",
    "# f1.close()\n",
    "# f2=open(filename,'r')\n",
    "# data=f2.read()\n",
    "# print(data)\n",
    "# f2.close()"
   ]
  },
  {
   "cell_type": "code",
   "execution_count": 3,
   "metadata": {},
   "outputs": [],
   "source": [
    "# # Program to write multiple lines of data into a file, read and print only the first line.\n",
    "# filename =input(\"Enter the file name : \")\n",
    "# f1=open(filename,'w')\n",
    "# f1.write('Computer science Engineering\\n')\n",
    "# f1.write('Elecronics and Communication Engineering\\n')\n",
    "# f1.write('Civil Engineering\\n')\n",
    "# f1.close()\n",
    "# f2=open(filename,'r')\n",
    "# data=f2.readline()\n",
    "# print(data)\n",
    "# f2.close()"
   ]
  },
  {
   "cell_type": "code",
   "execution_count": 4,
   "metadata": {},
   "outputs": [
    {
     "name": "stdout",
     "output_type": "stream",
     "text": [
      "['Computer science Engineering\\n', 'Elecronics and Communication Engineering\\n', 'Civil Engineering\\n']\n"
     ]
    }
   ],
   "source": [
    "# Program to write multiple lines of data into a file, read and print all the lines.\n",
    "filename =input(\"Enter the file name : \")\n",
    "f1=open(filename,'w')\n",
    "f1.write('Computer science Engineering\\n')\n",
    "f1.write('Electronics and Communication Engineering\\n')\n",
    "f1.write('Civil Engineering\\n')\n",
    "f1.close()\n",
    "f2=open(filename,'r')\n",
    "data=f2.readlines()\n",
    "print(data)\n",
    "f2.close()"
   ]
  },
  {
   "cell_type": "code",
   "execution_count": 5,
   "metadata": {},
   "outputs": [],
   "source": [
    "# # Program to copy the contents of one file into another file.\n",
    "# filename1 = input(\"Enter the file name 1: \")\n",
    "# f1 = open(filename1,'w')\n",
    "# f1.write('Computer science Engineering\\n')\n",
    "# f1.write('Elecronics and Communication Engineering\\n')\n",
    "# f1.write('Civil Engineering\\n')\n",
    "# f1.close()\n",
    "# f2 = open(filename,'r')\n",
    "# data1 = f2.read()\n",
    "# print(data)\n",
    "# f2.close()\n",
    "# filename2 = input(\"Enter the file name 2: \")\n",
    "# f3 = open(filename2,'w')\n",
    "# f3.write(data1)\n",
    "# f3.close()\n",
    "# f3 = open(filename2,'r')\n",
    "# data2 = f3.read()\n",
    "# print(data2)\n",
    "# f3.close()"
   ]
  },
  {
   "cell_type": "code",
   "execution_count": 6,
   "metadata": {},
   "outputs": [
    {
     "name": "stdout",
     "output_type": "stream",
     "text": [
      "['l', 'C', 'e', 'g', 'p', 'n', 'v', 'u', 'r', 'm', 'i', 'c', 's', '\\n', 'a', 'o', 't', 'E', ' ', 'd']\n",
      "l as occured 2 times\n",
      "C as occured 3 times\n",
      "e as occured 10 times\n",
      "g as occured 6 times\n",
      "p as occured 1 times\n",
      "n as occured 14 times\n",
      "v as occured 1 times\n",
      "u as occured 2 times\n",
      "r as occured 5 times\n",
      "m as occured 3 times\n",
      "i as occured 12 times\n",
      "c as occured 5 times\n",
      "s as occured 2 times\n",
      "\n",
      " as occured 3 times\n",
      "a as occured 2 times\n",
      "o as occured 4 times\n",
      "t as occured 2 times\n",
      "E as occured 4 times\n",
      "  as occured 6 times\n",
      "d as occured 1 times\n"
     ]
    }
   ],
   "source": [
    "# Write a Python program to count frequency of characters in a given file.\n",
    "filename = input(\"Enter a file name : \")\n",
    "f1 = open(filename,'w')\n",
    "f1.write('Computer science Engineering\\n')\n",
    "f1.write('Elecronics and Communication Engineering\\n')\n",
    "f1.write('Civil Engineering\\n')\n",
    "f1.close()\n",
    "f1 = open(filename,'r')\n",
    "data = f1.read()\n",
    "a =list(set(data))\n",
    "sorted(a)\n",
    "print(a)\n",
    "f1.close()\n",
    "for i in a:\n",
    "    print(\"{} as occured {} times\".format(i,data.count(i)))\n"
   ]
  },
  {
   "cell_type": "code",
   "execution_count": 7,
   "metadata": {},
   "outputs": [
    {
     "name": "stdout",
     "output_type": "stream",
     "text": [
      "['Computer science Engineering\\n', 'Elecronics and Communication Engineering\\n', 'Civil Engineering\\n']\n",
      "\n",
      "gnireenignE ecneics retupmoC\n",
      "\n",
      "gnireenignE noitacinummoC dna scinorcelE\n",
      "\n",
      "gnireenignE liviC\n"
     ]
    }
   ],
   "source": [
    "# Write a Python program to print each line of a file in reverse order.\n",
    "filename = input(\"Enter a file name : \")\n",
    "f1 = open(filename,'w')\n",
    "f1.write('Computer science Engineering\\n')\n",
    "f1.write('Elecronics and Communication Engineering\\n')\n",
    "f1.write('Civil Engineering\\n')\n",
    "f1.close()\n",
    "f1 = open(filename,'r')\n",
    "data = f1.readlines()\n",
    "print(data)\n",
    "for i in data:\n",
    "    print(i[::-1])\n",
    "f1.close()"
   ]
  },
  {
   "cell_type": "code",
   "execution_count": 8,
   "metadata": {},
   "outputs": [],
   "source": [
    "# # Write a Python program to compute the number of characters, words and lines in a file.\n",
    "# filename = input(\"Enter a file name : \")\n",
    "# c=0\n",
    "# w=0\n",
    "# l=0\n",
    "# f1 = open(filename,'w')\n",
    "# f1.write('Computer science Engineering\\n')\n",
    "# f1.write('Elecronics and Communication Engineering\\n')\n",
    "# f1.write('Civil Engineering\\n')\n",
    "# f1.close()\n",
    "# f2 = open(filename,'r')\n",
    "# data = f2.readlines()\n",
    "# print(data)\n",
    "# for i in data:\n",
    "#     c = c + len(i)\n",
    "#     w = w + len(i.split())\n",
    "#     l=l+1\n",
    "# f2.close()\n",
    "# print('The number of Characters are :', c)\n",
    "# print('The number of Words are :', w)\n",
    "# print('The number of Lines are :', l)\n"
   ]
  },
  {
   "cell_type": "code",
   "execution_count": 9,
   "metadata": {},
   "outputs": [
    {
     "name": "stdout",
     "output_type": "stream",
     "text": [
      "Compu\n",
      "upmoCter science Engineering\n",
      "Elecronics and Communication Engineering\n",
      "Civil Engineering\n",
      "\n"
     ]
    }
   ],
   "source": [
    "# # Write a Python program to reverse first n characters in a file.\n",
    "# f = open(\"abc\",'r+')\n",
    "# n = int(input(\"Enter the first n number to reverse in a file : \"))\n",
    "# s =f.read(n)\n",
    "# print(s)\n",
    "# f.seek(0,0)\n",
    "# f.write(s[n::-1])\n",
    "# f.close()\n",
    "# f = open(\"abc\",'r')\n",
    "# f.seek(0,0)\n",
    "# print(f.read())\n",
    "# f.close()"
   ]
  },
  {
   "cell_type": "markdown",
   "metadata": {},
   "source": [
    "# BUILT-IN MODULES"
   ]
  },
  {
   "cell_type": "code",
   "execution_count": 10,
   "metadata": {},
   "outputs": [
    {
     "name": "stdout",
     "output_type": "stream",
     "text": [
      "The area of the Circle is:  78.53981633974483\n"
     ]
    }
   ],
   "source": [
    "#Program to find the area of circle using in-built Module\n",
    "import math\n",
    "radius = int (input (\"Enter the radius of the Circle: \"))\n",
    "aoc = math.pi * radius * radius\n",
    "print(\"The area of the Circle is: \", aoc)"
   ]
  },
  {
   "cell_type": "code",
   "execution_count": 11,
   "metadata": {},
   "outputs": [
    {
     "name": "stdout",
     "output_type": "stream",
     "text": [
      "      May 2014\n",
      "Mo Tu We Th Fr Sa Su\n",
      "          1  2  3  4\n",
      " 5  6  7  8  9 10 11\n",
      "12 13 14 15 16 17 18\n",
      "19 20 21 22 23 24 25\n",
      "26 27 28 29 30 31\n",
      "\n"
     ]
    }
   ],
   "source": [
    "#Program to display calendar using in-built Module\n",
    "import calendar\n",
    "yy = int(input(\"Enter the year: \"))\n",
    "mm = int(input(\"Enter month: \"))\n",
    "print(calendar.month(yy, mm))"
   ]
  },
  {
   "attachments": {},
   "cell_type": "markdown",
   "metadata": {},
   "source": [
    "# User-defined Modules"
   ]
  },
  {
   "cell_type": "code",
   "execution_count": 12,
   "metadata": {},
   "outputs": [
    {
     "name": "stdout",
     "output_type": "stream",
     "text": [
      "Hi!JITians! This is a sample module\n",
      "Height is : 156\n",
      "Weight is:  56\n"
     ]
    }
   ],
   "source": [
    "import greet_mod as gm\n",
    "gm.greeting(\"JITians\")\n",
    "ht = gm.height\n",
    "wt = gm.weight\n",
    "print (\"Height is :\",ht)\n",
    "print (\"Weight is: \",wt)"
   ]
  }
 ],
 "metadata": {
  "kernelspec": {
   "display_name": "Python 3",
   "language": "python",
   "name": "python3"
  },
  "language_info": {
   "codemirror_mode": {
    "name": "ipython",
    "version": 3
   },
   "file_extension": ".py",
   "mimetype": "text/x-python",
   "name": "python",
   "nbconvert_exporter": "python",
   "pygments_lexer": "ipython3",
   "version": "3.11.3"
  },
  "orig_nbformat": 4
 },
 "nbformat": 4,
 "nbformat_minor": 2
}

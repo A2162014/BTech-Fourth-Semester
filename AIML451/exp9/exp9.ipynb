{
 "cells": [
  {
   "cell_type": "markdown",
   "metadata": {},
   "source": [
    "# Data Handling using Pandas"
   ]
  },
  {
   "cell_type": "code",
   "execution_count": 1,
   "metadata": {},
   "outputs": [],
   "source": [
    "import pandas as pd\n",
    "import numpy as np"
   ]
  },
  {
   "cell_type": "code",
   "execution_count": 2,
   "metadata": {},
   "outputs": [],
   "source": [
    "# # How to create Series with nd array\n",
    "# arr=np.array([10,15,18,22])\n",
    "# s=pd.Series(arr)\n",
    "# print(s)"
   ]
  },
  {
   "cell_type": "code",
   "execution_count": 3,
   "metadata": {},
   "outputs": [
    {
     "name": "stdout",
     "output_type": "stream",
     "text": [
      "first     a\n",
      "second    b\n",
      "third     c\n",
      "fourth    d\n",
      "dtype: object\n"
     ]
    }
   ],
   "source": [
    "# How to create Series with Mutable index\n",
    "arr_1=np.array(['a','b','c','d'])\n",
    "s_1=pd.Series(arr_1, index=['first','second','third','fourth'])\n",
    "print(s_1)"
   ]
  },
  {
   "cell_type": "code",
   "execution_count": 4,
   "metadata": {},
   "outputs": [],
   "source": [
    "# # Creating a series from Scalar value\n",
    "# s=pd.Series(50, index=[0,1,2,3,4])\n",
    "# print(s)"
   ]
  },
  {
   "cell_type": "code",
   "execution_count": 5,
   "metadata": {},
   "outputs": [
    {
     "name": "stdout",
     "output_type": "stream",
     "text": [
      "Name       Hardik\n",
      "Iplteam        MI\n",
      "Runs         1500\n",
      "dtype: object\n"
     ]
    }
   ],
   "source": [
    "# Creating a series from a Dictionary\n",
    "\n",
    "# create a dictionary\n",
    "d = {'Name' : 'Hardik', 'Iplteam' : 'MI', 'Runs' : 1500}\n",
    "\n",
    "# create a series\n",
    "s = pd.Series(d)\n",
    "\n",
    "print(s)"
   ]
  },
  {
   "cell_type": "markdown",
   "metadata": {},
   "source": [
    "# Mathematical Operations in Series"
   ]
  },
  {
   "cell_type": "code",
   "execution_count": 6,
   "metadata": {},
   "outputs": [],
   "source": [
    "# s=pd.Series([1,2,3,4,5])\n",
    "# # Print all the values of the Series by multiplying them by\n",
    "# print('To Multiply all values in a series by 2')\n",
    "# print('----------------------------------------------------')\n",
    "# print(s*2)\n",
    "# # Print Square of all the values of the series.\n",
    "# print('To Find the Square of all the values in a series')\n",
    "# print('----------------------------------------------------')\n",
    "# print(s**2)\n",
    "# # Print all the values of the Series that are greater than 2.\n",
    "# print( 'To print all the values in a series that are greater than 2')\n",
    "# print('----------------------------------------------------')\n",
    "# print(s[s>2])"
   ]
  },
  {
   "cell_type": "code",
   "execution_count": 3,
   "metadata": {},
   "outputs": [
    {
     "name": "stdout",
     "output_type": "stream",
     "text": [
      "To add Series1 & series2\n",
      "----------------------------------------------------\n",
      "a    11.0\n",
      "b    22.0\n",
      "c     NaN\n",
      "d     NaN\n",
      "dtype: float64\n",
      "To add Series2 & series3\n",
      "----------------------------------------------------\n",
      "a    15.0\n",
      "b     NaN\n",
      "d    44.0\n",
      "e     NaN\n",
      "dtype: float64\n",
      "To add Series2 & Series3 and fill non matching index with 0\n",
      "----------------------------------------------------\n",
      "a    15.0\n",
      "b    20.0\n",
      "d    44.0\n",
      "e    23.0\n",
      "dtype: float64\n"
     ]
    }
   ],
   "source": [
    "import pandas as pd\n",
    "s1=pd.Series([1,2,3],index=['a','b','c'])\n",
    "s2=pd.Series([10,20,30],index=['a','b','d'])\n",
    "s3=pd.Series([5,14,23],index=['a','d','e'])\n",
    "# Print all the values of the Series by adding Series1 & Series2\n",
    "print('To add Series1 & series2')\n",
    "print('----------------------------------------------------')\n",
    "print(s1+s2)\n",
    "# Print all the values of the Series by adding Series2 & Series3\n",
    "print('To add Series2 & series3')\n",
    "print('----------------------------------------------------')\n",
    "print(s2+s3)\n",
    "# Print all the values of the Series by adding Series2 & Series3 and fill non matching index with 0\n",
    "print( 'To add Series2 & Series3 and fill non matching index with 0')\n",
    "print('----------------------------------------------------')\n",
    "print(s2.add(s3,fill_value=0))"
   ]
  },
  {
   "cell_type": "markdown",
   "metadata": {},
   "source": [
    "# Head and Tail Functions in Series"
   ]
  },
  {
   "cell_type": "code",
   "execution_count": 8,
   "metadata": {},
   "outputs": [],
   "source": [
    "arr=np.array([10,15,18,22,55,77,42,48,97])\n",
    "# create a series from array\n",
    "s=pd.Series(arr)\n",
    "# print(s)"
   ]
  },
  {
   "cell_type": "code",
   "execution_count": 9,
   "metadata": {},
   "outputs": [
    {
     "name": "stdout",
     "output_type": "stream",
     "text": [
      "0    10\n",
      "1    15\n",
      "2    18\n",
      "3    22\n",
      "4    55\n",
      "dtype: int32\n",
      "0    10\n",
      "1    15\n",
      "2    18\n",
      "dtype: int32\n"
     ]
    }
   ],
   "source": [
    "# to print first 5 rows\n",
    "print(s.head())\n",
    "# to print first 3 rows\n",
    "print(s.head(3))"
   ]
  },
  {
   "cell_type": "code",
   "execution_count": 10,
   "metadata": {},
   "outputs": [
    {
     "name": "stdout",
     "output_type": "stream",
     "text": [
      "4    55\n",
      "5    77\n",
      "6    42\n",
      "7    48\n",
      "8    97\n",
      "dtype: int32\n",
      "5    77\n",
      "6    42\n",
      "7    48\n",
      "8    97\n",
      "dtype: int32\n"
     ]
    }
   ],
   "source": [
    "# to print last 5 rows\n",
    "print(s.tail())\n",
    "# to print last 4 rows\n",
    "print(s.tail(4))"
   ]
  },
  {
   "cell_type": "markdown",
   "metadata": {},
   "source": [
    "# Selection in Series"
   ]
  },
  {
   "cell_type": "code",
   "execution_count": 11,
   "metadata": {},
   "outputs": [],
   "source": [
    "# arr=np.array([10,15,18,22,55,77])\n",
    "# s=pd.Series(arr)\n",
    "# print(s)"
   ]
  },
  {
   "cell_type": "code",
   "execution_count": 12,
   "metadata": {},
   "outputs": [
    {
     "name": "stdout",
     "output_type": "stream",
     "text": [
      "0    10\n",
      "1    15\n",
      "2    18\n",
      "dtype: int32\n",
      "3    22\n",
      "4    55\n",
      "dtype: int32\n"
     ]
    },
    {
     "data": {
      "text/plain": [
       "2    18\n",
       "3    22\n",
       "dtype: int32"
      ]
     },
     "execution_count": 12,
     "metadata": {},
     "output_type": "execute_result"
    }
   ],
   "source": [
    "# Selection Using loc index label : series_name.loc[StartRange: StopRange]\n",
    "print(s.loc[:2])\n",
    "print(s.loc[3:4])\n",
    "s.loc[2:3]"
   ]
  },
  {
   "cell_type": "code",
   "execution_count": 13,
   "metadata": {},
   "outputs": [
    {
     "name": "stdout",
     "output_type": "stream",
     "text": [
      "0    10\n",
      "1    15\n",
      "dtype: int32\n",
      "3    22\n",
      "dtype: int32\n"
     ]
    }
   ],
   "source": [
    "# Selection Using iloc index label : series_name.iloc[StartRange : StopRange]\n",
    "print(s.iloc[:2])\n",
    "print(s.iloc[3:4])"
   ]
  },
  {
   "cell_type": "code",
   "execution_count": 14,
   "metadata": {},
   "outputs": [
    {
     "name": "stdout",
     "output_type": "stream",
     "text": [
      "15\n",
      "\n",
      "\n",
      "3    22\n",
      "dtype: int32\n"
     ]
    },
    {
     "data": {
      "text/plain": [
       "0    10\n",
       "1    15\n",
       "2    18\n",
       "dtype: int32"
      ]
     },
     "execution_count": 14,
     "metadata": {},
     "output_type": "execute_result"
    }
   ],
   "source": [
    "# Selection Using [] : series_name[StartRange> : StopRange] or series_name[index]\n",
    "print(s[1])\n",
    "print('\\n')\n",
    "print(s[3:4])\n",
    "s[:3]"
   ]
  },
  {
   "cell_type": "markdown",
   "metadata": {},
   "source": [
    "# Indexing in Series"
   ]
  },
  {
   "cell_type": "code",
   "execution_count": 15,
   "metadata": {},
   "outputs": [],
   "source": [
    "# arr=np.array(['a','b','c','d'],)\n",
    "# s=pd.Series(arr,index=['first','second','third','fourth'])\n",
    "# print(s)"
   ]
  },
  {
   "cell_type": "code",
   "execution_count": 16,
   "metadata": {},
   "outputs": [
    {
     "name": "stdout",
     "output_type": "stream",
     "text": [
      "Index(['first', 'second', 'third', 'fourth'], dtype='object')\n"
     ]
    }
   ],
   "source": [
    "# To print only indexed in series\n",
    "print(s_1.index)"
   ]
  },
  {
   "cell_type": "markdown",
   "metadata": {},
   "source": [
    "# Slicing in Series"
   ]
  },
  {
   "cell_type": "code",
   "execution_count": 17,
   "metadata": {},
   "outputs": [
    {
     "name": "stdout",
     "output_type": "stream",
     "text": [
      "A    10\n",
      "B    15\n",
      "C    18\n",
      "D    22\n",
      "E    55\n",
      "F    77\n",
      "G    42\n",
      "H    48\n",
      "I    97\n",
      "dtype: int32\n"
     ]
    }
   ],
   "source": [
    "# arr=np.array([10,15,18,22,55,77])\n",
    "s=pd.Series(arr,index=['A','B','C','D','E','F','G','H','I'])\n",
    "print(s)"
   ]
  },
  {
   "cell_type": "code",
   "execution_count": 18,
   "metadata": {},
   "outputs": [
    {
     "name": "stdout",
     "output_type": "stream",
     "text": [
      "B    15\n",
      "D    22\n",
      "dtype: int32\n"
     ]
    }
   ],
   "source": [
    "print(s[1:5:2])"
   ]
  },
  {
   "cell_type": "code",
   "execution_count": 19,
   "metadata": {},
   "outputs": [
    {
     "name": "stdout",
     "output_type": "stream",
     "text": [
      "A    10\n",
      "C    18\n",
      "E    55\n",
      "dtype: int32\n"
     ]
    }
   ],
   "source": [
    "print(s[0:6:2])"
   ]
  },
  {
   "cell_type": "markdown",
   "metadata": {},
   "source": [
    "# DATAFRAME"
   ]
  },
  {
   "cell_type": "code",
   "execution_count": 20,
   "metadata": {},
   "outputs": [],
   "source": [
    "# # How to create an empty Dataframe\n",
    "# df=pd.DataFrame()\n",
    "# print(df)"
   ]
  },
  {
   "cell_type": "code",
   "execution_count": 21,
   "metadata": {},
   "outputs": [],
   "source": [
    "# # How to create Dataframe from series\n",
    "# s=pd.Series(['a','b','c','d'])\n",
    "# df=pd.DataFrame(s)\n",
    "# print(df)"
   ]
  },
  {
   "cell_type": "code",
   "execution_count": 22,
   "metadata": {},
   "outputs": [
    {
     "name": "stdout",
     "output_type": "stream",
     "text": [
      "     Name Team\n",
      "0  Hardik   MI\n",
      "1   Virat  RCB\n"
     ]
    }
   ],
   "source": [
    "# DataFrame from Dictionary of Series\n",
    "name=pd.Series(['Hardik','Virat'])\n",
    "team=pd.Series(['MI','RCB'])\n",
    "dic={'Name':name,'Team':team}\n",
    "df=pd.DataFrame(dic)\n",
    "print(df)"
   ]
  },
  {
   "cell_type": "code",
   "execution_count": 23,
   "metadata": {},
   "outputs": [
    {
     "name": "stdout",
     "output_type": "stream",
     "text": [
      "     Name   SirName\n",
      "0  Sachin  Bhardwaj\n",
      "1   Vinod     Verma\n",
      "2  Rajesh    Mishra\n"
     ]
    }
   ],
   "source": [
    "# DataFrame from List of Dictionaries\n",
    "l=[{'Name':'Sachin','SirName':'Bhardwaj'},\n",
    "   {'Name':'Vinod','SirName':'Verma'},\n",
    "   {'Name':'Rajesh','SirName':'Mishra'}]\n",
    "df1=pd.DataFrame(l)\n",
    "print(df1)"
   ]
  },
  {
   "cell_type": "markdown",
   "metadata": {},
   "source": [
    "# Iteration on Rows and Columns"
   ]
  },
  {
   "cell_type": "code",
   "execution_count": 24,
   "metadata": {},
   "outputs": [
    {
     "name": "stdout",
     "output_type": "stream",
     "text": [
      "\n",
      "Row index is: 0\n",
      "Row Values is:\n",
      "Name         Sachin\n",
      "SirName    Bhardwaj\n",
      "Name: 0, dtype: object\n",
      "\n",
      "Row index is: 1\n",
      "Row Values is:\n",
      "Name       Vinod\n",
      "SirName    Verma\n",
      "Name: 1, dtype: object\n",
      "\n",
      "Row index is: 2\n",
      "Row Values is:\n",
      "Name       Rajesh\n",
      "SirName    Mishra\n",
      "Name: 2, dtype: object\n"
     ]
    }
   ],
   "source": [
    "# iterrows()\n",
    "for(row_index,row_value) in df1.iterrows():\n",
    "    print('\\nRow index is:',row_index)\n",
    "    print('Row Values is:')\n",
    "    print(row_value)"
   ]
  },
  {
   "cell_type": "code",
   "execution_count": 25,
   "metadata": {},
   "outputs": [
    {
     "name": "stdout",
     "output_type": "stream",
     "text": [
      "\n",
      "Column name is: Name\n",
      "Column values are:\n",
      "0    Sachin\n",
      "1     Vinod\n",
      "2    Rajesh\n",
      "Name: Name, dtype: object\n",
      "\n",
      "Column name is: SirName\n",
      "Column values are:\n",
      "0    Bhardwaj\n",
      "1       Verma\n",
      "2      Mishra\n",
      "Name: SirName, dtype: object\n"
     ]
    }
   ],
   "source": [
    "# items()\n",
    "for col_name, col_value in df1.items():\n",
    "    print('\\nColumn name is:', col_name)\n",
    "    print('Column values are:')\n",
    "    print(col_value)"
   ]
  },
  {
   "cell_type": "markdown",
   "metadata": {},
   "source": [
    "# Select operation in data frame"
   ]
  },
  {
   "cell_type": "code",
   "execution_count": 26,
   "metadata": {},
   "outputs": [
    {
     "name": "stdout",
     "output_type": "stream",
     "text": [
      "   empid     ename         Doj\n",
      "0    101    Sachin  12-01-2012\n",
      "1    102     Vinod  15-01-2012\n",
      "2    103   Lakhbir  05-09-2007\n",
      "3    104      Anil  17-01-2012\n",
      "4    105  Devinder  05-09-2007\n",
      "5    106  UmaSelvi  16-01-2012\n"
     ]
    }
   ],
   "source": [
    "empdata={'empid':[101,102,103,104,105,106],\n",
    "         'ename':['Sachin','Vinod','Lakhbir','Anil','Devinder','UmaSelvi'],\n",
    "         'Doj':['12-01-2012','15-01-2012','05-09-2007','17-01-2012','05-09-2007','16-01-2012']}\n",
    "df=pd.DataFrame(empdata)\n",
    "print(df)"
   ]
  },
  {
   "cell_type": "code",
   "execution_count": 27,
   "metadata": {},
   "outputs": [
    {
     "data": {
      "text/plain": [
       "0    101\n",
       "1    102\n",
       "2    103\n",
       "3    104\n",
       "4    105\n",
       "5    106\n",
       "Name: empid, dtype: int64"
      ]
     },
     "execution_count": 27,
     "metadata": {},
     "output_type": "execute_result"
    }
   ],
   "source": [
    "# df.empid\n",
    "df['empid']"
   ]
  },
  {
   "cell_type": "code",
   "execution_count": 28,
   "metadata": {},
   "outputs": [
    {
     "data": {
      "text/html": [
       "<div>\n",
       "<style scoped>\n",
       "    .dataframe tbody tr th:only-of-type {\n",
       "        vertical-align: middle;\n",
       "    }\n",
       "\n",
       "    .dataframe tbody tr th {\n",
       "        vertical-align: top;\n",
       "    }\n",
       "\n",
       "    .dataframe thead th {\n",
       "        text-align: right;\n",
       "    }\n",
       "</style>\n",
       "<table border=\"1\" class=\"dataframe\">\n",
       "  <thead>\n",
       "    <tr style=\"text-align: right;\">\n",
       "      <th></th>\n",
       "      <th>empid</th>\n",
       "      <th>ename</th>\n",
       "    </tr>\n",
       "  </thead>\n",
       "  <tbody>\n",
       "    <tr>\n",
       "      <th>0</th>\n",
       "      <td>101</td>\n",
       "      <td>Sachin</td>\n",
       "    </tr>\n",
       "    <tr>\n",
       "      <th>1</th>\n",
       "      <td>102</td>\n",
       "      <td>Vinod</td>\n",
       "    </tr>\n",
       "    <tr>\n",
       "      <th>2</th>\n",
       "      <td>103</td>\n",
       "      <td>Lakhbir</td>\n",
       "    </tr>\n",
       "    <tr>\n",
       "      <th>3</th>\n",
       "      <td>104</td>\n",
       "      <td>Anil</td>\n",
       "    </tr>\n",
       "    <tr>\n",
       "      <th>4</th>\n",
       "      <td>105</td>\n",
       "      <td>Devinder</td>\n",
       "    </tr>\n",
       "    <tr>\n",
       "      <th>5</th>\n",
       "      <td>106</td>\n",
       "      <td>UmaSelvi</td>\n",
       "    </tr>\n",
       "  </tbody>\n",
       "</table>\n",
       "</div>"
      ],
      "text/plain": [
       "   empid     ename\n",
       "0    101    Sachin\n",
       "1    102     Vinod\n",
       "2    103   Lakhbir\n",
       "3    104      Anil\n",
       "4    105  Devinder\n",
       "5    106  UmaSelvi"
      ]
     },
     "execution_count": 28,
     "metadata": {},
     "output_type": "execute_result"
    }
   ],
   "source": [
    "df[['empid','ename']]"
   ]
  },
  {
   "cell_type": "code",
   "execution_count": 29,
   "metadata": {},
   "outputs": [
    {
     "name": "stdout",
     "output_type": "stream",
     "text": [
      "   empid     ename         Doj\n",
      "0    101    Sachin  12-01-2012\n",
      "1    102     Vinod  15-01-2012\n",
      "2    103   Lakhbir  05-09-2007\n",
      "3    104      Anil  17-01-2012\n",
      "4    105  Devinder  05-09-2007\n"
     ]
    }
   ],
   "source": [
    "# displays first 5 row\n",
    "print(df.head())"
   ]
  },
  {
   "cell_type": "code",
   "execution_count": 30,
   "metadata": {},
   "outputs": [
    {
     "name": "stdout",
     "output_type": "stream",
     "text": [
      "   empid     ename         Doj\n",
      "1    102     Vinod  15-01-2012\n",
      "2    103   Lakhbir  05-09-2007\n",
      "3    104      Anil  17-01-2012\n",
      "4    105  Devinder  05-09-2007\n",
      "5    106  UmaSelvi  16-01-2012\n"
     ]
    }
   ],
   "source": [
    "#  display last 5 rows\n",
    "print(df.tail())"
   ]
  },
  {
   "cell_type": "code",
   "execution_count": 31,
   "metadata": {},
   "outputs": [],
   "source": [
    "# #  displays first 2 row\n",
    "# print(df.head(2))"
   ]
  },
  {
   "cell_type": "code",
   "execution_count": 32,
   "metadata": {},
   "outputs": [],
   "source": [
    "# # displays last 2 rows\n",
    "# print(df.tail(2))"
   ]
  },
  {
   "cell_type": "code",
   "execution_count": 33,
   "metadata": {},
   "outputs": [
    {
     "name": "stdout",
     "output_type": "stream",
     "text": [
      "   empid     ename         Doj\n",
      "2    103   Lakhbir  05-09-2007\n",
      "3    104      Anil  17-01-2012\n",
      "4    105  Devinder  05-09-2007\n"
     ]
    }
   ],
   "source": [
    "# display 2nd to 4th row\n",
    "print(df[2:5])"
   ]
  },
  {
   "cell_type": "markdown",
   "metadata": {},
   "source": [
    "# To Add & Rename a column in data frame"
   ]
  },
  {
   "cell_type": "code",
   "execution_count": 34,
   "metadata": {},
   "outputs": [
    {
     "name": "stdout",
     "output_type": "stream",
     "text": [
      "   List1  List2  List3\n",
      "0     10     20     30\n",
      "1     15     20     35\n",
      "2     18     20     38\n",
      "3     22     20     42\n"
     ]
    }
   ],
   "source": [
    "s = pd.Series([10,15,18,22])\n",
    "df=pd.DataFrame(s)\n",
    "df.columns=['List1'] # To Rename the default column of DataFrame as List1\n",
    "df['List2']=20 # To create a new column List2 with all values as 20\n",
    "df['List3']=df['List1']+df['List2'] # Add Column1 and Column2 and store in New column List3\n",
    "print(df)"
   ]
  },
  {
   "cell_type": "markdown",
   "metadata": {},
   "source": [
    "# To Delete a Column in data frame"
   ]
  },
  {
   "cell_type": "code",
   "execution_count": 35,
   "metadata": {},
   "outputs": [
    {
     "data": {
      "text/plain": [
       "0    20\n",
       "1    20\n",
       "2    20\n",
       "3    20\n",
       "Name: List2, dtype: int64"
      ]
     },
     "execution_count": 35,
     "metadata": {},
     "output_type": "execute_result"
    }
   ],
   "source": [
    "df.pop('List2')"
   ]
  },
  {
   "cell_type": "code",
   "execution_count": 36,
   "metadata": {},
   "outputs": [
    {
     "data": {
      "text/html": [
       "<div>\n",
       "<style scoped>\n",
       "    .dataframe tbody tr th:only-of-type {\n",
       "        vertical-align: middle;\n",
       "    }\n",
       "\n",
       "    .dataframe tbody tr th {\n",
       "        vertical-align: top;\n",
       "    }\n",
       "\n",
       "    .dataframe thead th {\n",
       "        text-align: right;\n",
       "    }\n",
       "</style>\n",
       "<table border=\"1\" class=\"dataframe\">\n",
       "  <thead>\n",
       "    <tr style=\"text-align: right;\">\n",
       "      <th></th>\n",
       "      <th>List1</th>\n",
       "      <th>List3</th>\n",
       "    </tr>\n",
       "  </thead>\n",
       "  <tbody>\n",
       "    <tr>\n",
       "      <th>0</th>\n",
       "      <td>10</td>\n",
       "      <td>30</td>\n",
       "    </tr>\n",
       "    <tr>\n",
       "      <th>1</th>\n",
       "      <td>15</td>\n",
       "      <td>35</td>\n",
       "    </tr>\n",
       "    <tr>\n",
       "      <th>2</th>\n",
       "      <td>18</td>\n",
       "      <td>38</td>\n",
       "    </tr>\n",
       "    <tr>\n",
       "      <th>3</th>\n",
       "      <td>22</td>\n",
       "      <td>42</td>\n",
       "    </tr>\n",
       "  </tbody>\n",
       "</table>\n",
       "</div>"
      ],
      "text/plain": [
       "   List1  List3\n",
       "0     10     30\n",
       "1     15     35\n",
       "2     18     38\n",
       "3     22     42"
      ]
     },
     "execution_count": 36,
     "metadata": {},
     "output_type": "execute_result"
    }
   ],
   "source": [
    "df"
   ]
  },
  {
   "cell_type": "markdown",
   "metadata": {},
   "source": [
    "# To Delete a Column Using drop()"
   ]
  },
  {
   "cell_type": "code",
   "execution_count": 37,
   "metadata": {},
   "outputs": [],
   "source": [
    "# s= pd.Series([10,20,30,40])\n",
    "# df=pd.DataFrame(s)\n",
    "# df.columns=['List1']\n",
    "# df['List2']=40\n",
    "# print(df)"
   ]
  },
  {
   "cell_type": "code",
   "execution_count": 38,
   "metadata": {},
   "outputs": [
    {
     "name": "stdout",
     "output_type": "stream",
     "text": [
      "After deletion:\n",
      "   List3\n",
      "0     30\n",
      "1     35\n",
      "2     38\n",
      "3     42\n"
     ]
    }
   ],
   "source": [
    "df1=df.drop('List1',axis=1) # (axis=1) means to delete Data column wise\n",
    "print(\"After deletion:\")\n",
    "print(df1)"
   ]
  },
  {
   "cell_type": "code",
   "execution_count": 39,
   "metadata": {},
   "outputs": [
    {
     "name": "stdout",
     "output_type": "stream",
     "text": [
      "After row deletion::\n",
      "   List1  List3\n",
      "0     10     30\n",
      "1     15     35\n"
     ]
    }
   ],
   "source": [
    "df2=df.drop(index=[2,3],axis=0) # (axis=0) means to delete data row wise with given index\n",
    "print (\"After row deletion::\")\n",
    "print(df2)"
   ]
  },
  {
   "cell_type": "markdown",
   "metadata": {},
   "source": [
    "# Accessing the data frame through loc()"
   ]
  },
  {
   "cell_type": "code",
   "execution_count": 40,
   "metadata": {},
   "outputs": [
    {
     "name": "stdout",
     "output_type": "stream",
     "text": [
      "       TCS  WIPRO    L&T\n",
      "Qtr1  2500   2800   2100\n",
      "Qtr2  2000   2400   5700\n",
      "Qtr3  3000   3600  35000\n",
      "Qtr4  2000   2400   2100\n"
     ]
    }
   ],
   "source": [
    "Runs={'TCS':{'Qtr1':2500,'Qtr2':2000,'Qtr3':3000,'Qtr4':2000},\n",
    "      'WIPRO':{'Qtr1':2800,'Qtr2':2400,'Qtr3':3600,'Qtr4':2400},\n",
    "      'L&T':{'Qtr1':2100,'Qtr2':5700,'Qtr3':35000,'Qtr4':2100}}\n",
    "df=pd.DataFrame(Runs)\n",
    "print(df)"
   ]
  },
  {
   "cell_type": "code",
   "execution_count": 41,
   "metadata": {},
   "outputs": [
    {
     "name": "stdout",
     "output_type": "stream",
     "text": [
      "TCS       3000\n",
      "WIPRO     3600\n",
      "L&T      35000\n",
      "Name: Qtr3, dtype: int64\n"
     ]
    }
   ],
   "source": [
    "# To access a single row\n",
    "print(df.loc['Qtr3',:])"
   ]
  },
  {
   "cell_type": "code",
   "execution_count": 42,
   "metadata": {},
   "outputs": [
    {
     "name": "stdout",
     "output_type": "stream",
     "text": [
      "       TCS  WIPRO    L&T\n",
      "Qtr1  2500   2800   2100\n",
      "Qtr2  2000   2400   5700\n",
      "Qtr3  3000   3600  35000\n"
     ]
    }
   ],
   "source": [
    "# to access multiple Rows Qtr1 to Qtr3\n",
    "print(df.loc['Qtr1':'Qtr3',:])"
   ]
  },
  {
   "cell_type": "code",
   "execution_count": 43,
   "metadata": {},
   "outputs": [
    {
     "name": "stdout",
     "output_type": "stream",
     "text": [
      "Qtr1    2500\n",
      "Qtr2    2000\n",
      "Qtr3    3000\n",
      "Qtr4    2000\n",
      "Name: TCS, dtype: int64\n"
     ]
    }
   ],
   "source": [
    "# To access a single column\n",
    "print(df.loc[:,'TCS'])"
   ]
  },
  {
   "cell_type": "code",
   "execution_count": 44,
   "metadata": {},
   "outputs": [
    {
     "name": "stdout",
     "output_type": "stream",
     "text": [
      "       TCS  WIPRO\n",
      "Qtr1  2500   2800\n",
      "Qtr2  2000   2400\n",
      "Qtr3  3000   3600\n",
      "Qtr4  2000   2400\n"
     ]
    }
   ],
   "source": [
    "# To access Multiple Column namely TCS and WIPR\n",
    "print(df.loc[:,'TCS':'WIPRO'])"
   ]
  },
  {
   "cell_type": "code",
   "execution_count": 45,
   "metadata": {},
   "outputs": [
    {
     "name": "stdout",
     "output_type": "stream",
     "text": [
      "TCS      2500\n",
      "WIPRO    2800\n",
      "L&T      2100\n",
      "Name: Qtr1, dtype: int64\n"
     ]
    }
   ],
   "source": [
    "# check if the DataFrame has any rows\n",
    "if len(df.index) > 0:\n",
    "    # access the first row using .loc with the label of the first row\n",
    "    print(df.loc[df.index[0]])\n",
    "else:\n",
    "    print(\"DataFrame is empty\")"
   ]
  },
  {
   "cell_type": "code",
   "execution_count": 46,
   "metadata": {},
   "outputs": [
    {
     "data": {
      "text/html": [
       "<div>\n",
       "<style scoped>\n",
       "    .dataframe tbody tr th:only-of-type {\n",
       "        vertical-align: middle;\n",
       "    }\n",
       "\n",
       "    .dataframe tbody tr th {\n",
       "        vertical-align: top;\n",
       "    }\n",
       "\n",
       "    .dataframe thead th {\n",
       "        text-align: right;\n",
       "    }\n",
       "</style>\n",
       "<table border=\"1\" class=\"dataframe\">\n",
       "  <thead>\n",
       "    <tr style=\"text-align: right;\">\n",
       "      <th></th>\n",
       "      <th>TCS</th>\n",
       "      <th>WIPRO</th>\n",
       "      <th>L&amp;T</th>\n",
       "    </tr>\n",
       "  </thead>\n",
       "  <tbody>\n",
       "    <tr>\n",
       "      <th>Qtr1</th>\n",
       "      <td>2500</td>\n",
       "      <td>2800</td>\n",
       "      <td>2100</td>\n",
       "    </tr>\n",
       "    <tr>\n",
       "      <th>Qtr2</th>\n",
       "      <td>2000</td>\n",
       "      <td>2400</td>\n",
       "      <td>5700</td>\n",
       "    </tr>\n",
       "    <tr>\n",
       "      <th>Qtr3</th>\n",
       "      <td>3000</td>\n",
       "      <td>3600</td>\n",
       "      <td>35000</td>\n",
       "    </tr>\n",
       "  </tbody>\n",
       "</table>\n",
       "</div>"
      ],
      "text/plain": [
       "       TCS  WIPRO    L&T\n",
       "Qtr1  2500   2800   2100\n",
       "Qtr2  2000   2400   5700\n",
       "Qtr3  3000   3600  35000"
      ]
     },
     "execution_count": 46,
     "metadata": {},
     "output_type": "execute_result"
    }
   ],
   "source": [
    "# To access first 3 Rows with a DatetimeIndex\n",
    "df.loc[df.index[0:3]]"
   ]
  },
  {
   "cell_type": "markdown",
   "metadata": {},
   "source": [
    "# Accessing the data frame through iloc()"
   ]
  },
  {
   "cell_type": "code",
   "execution_count": 47,
   "metadata": {},
   "outputs": [
    {
     "name": "stdout",
     "output_type": "stream",
     "text": [
      "      WIPRO\n",
      "Qtr1   2800\n",
      "Qtr2   2400\n"
     ]
    }
   ],
   "source": [
    "# To access First two Rows and Second column\n",
    "print(df.iloc[0:2,1:2])"
   ]
  },
  {
   "cell_type": "code",
   "execution_count": 48,
   "metadata": {},
   "outputs": [
    {
     "name": "stdout",
     "output_type": "stream",
     "text": [
      "       TCS  WIPRO\n",
      "Qtr1  2500   2800\n",
      "Qtr2  2000   2400\n",
      "Qtr3  3000   3600\n",
      "Qtr4  2000   2400\n"
     ]
    }
   ],
   "source": [
    "# To access all Rows and First two columnn Record\n",
    "print(df.iloc[:,0:2])"
   ]
  },
  {
   "cell_type": "markdown",
   "metadata": {},
   "source": [
    "# Boolean Indexing in Data Frame"
   ]
  },
  {
   "cell_type": "code",
   "execution_count": 49,
   "metadata": {},
   "outputs": [
    {
     "name": "stdout",
     "output_type": "stream",
     "text": [
      "                  Name  Age\n",
      "True   Sachin Bhardwaj   32\n",
      "False      Vinod Verma   35\n",
      "True     Rajesh Mishra   48\n"
     ]
    }
   ],
   "source": [
    "dic={'Name':['Sachin Bhardwaj','Vinod Verma','Rajesh Mishra'],\n",
    "     'Age':[32,35,48]}\n",
    "# creating a DataFrame with boolean index vector\n",
    "df=pd.DataFrame(dic, index=[True,False,True])\n",
    "print(df)"
   ]
  },
  {
   "cell_type": "code",
   "execution_count": 50,
   "metadata": {},
   "outputs": [
    {
     "name": "stdout",
     "output_type": "stream",
     "text": [
      "                 Name  Age\n",
      "True  Sachin Bhardwaj   32\n",
      "True    Rajesh Mishra   48\n",
      "\n"
     ]
    }
   ],
   "source": [
    "# to return DataFRame where index is True\n",
    "print(df.loc[True])\n",
    "print()"
   ]
  },
  {
   "cell_type": "code",
   "execution_count": 51,
   "metadata": {},
   "outputs": [
    {
     "name": "stdout",
     "output_type": "stream",
     "text": [
      "Result of iloc method\n",
      "Name    Vinod Verma\n",
      "Age              35\n",
      "Name: False, dtype: object\n"
     ]
    }
   ],
   "source": [
    "print('Result of iloc method')\n",
    "print(df.iloc[1])"
   ]
  },
  {
   "cell_type": "markdown",
   "metadata": {},
   "source": [
    "# Concat operation in data frame"
   ]
  },
  {
   "cell_type": "code",
   "execution_count": 52,
   "metadata": {},
   "outputs": [],
   "source": [
    "dic1={'id':['1','2','3','4','5'],\n",
    "       'Value1':['A','C','E','G','I'],\n",
    "       'Value2':['B','D','F','H','J']}\n",
    "dic2={'id':['2','3','6','7','8'],\n",
    "       'Value1':['K','M','O','Q','S'],\n",
    "       'Value2':['L','N','P','R','T']}\n",
    "df1=pd.DataFrame(dic1)\n",
    "df2=pd.DataFrame(dic2)"
   ]
  },
  {
   "cell_type": "code",
   "execution_count": 53,
   "metadata": {},
   "outputs": [
    {
     "name": "stdout",
     "output_type": "stream",
     "text": [
      "  id Value1 Value2\n",
      "0  1      A      B\n",
      "1  2      C      D\n",
      "2  3      E      F\n",
      "3  4      G      H\n",
      "4  5      I      J\n",
      "0  2      K      L\n",
      "1  3      M      N\n",
      "2  6      O      P\n",
      "3  7      Q      R\n",
      "4  8      S      T\n"
     ]
    }
   ],
   "source": [
    "df3=pd.concat([df1,df2])\n",
    "print(df3)"
   ]
  },
  {
   "cell_type": "code",
   "execution_count": 54,
   "metadata": {},
   "outputs": [
    {
     "name": "stdout",
     "output_type": "stream",
     "text": [
      "  id Value1 Value2\n",
      "0  1      A      B\n",
      "1  2      C      D\n",
      "2  3      E      F\n",
      "3  4      G      H\n",
      "4  5      I      J\n",
      "5  2      K      L\n",
      "6  3      M      N\n",
      "7  6      O      P\n",
      "8  7      Q      R\n",
      "9  8      S      T\n"
     ]
    }
   ],
   "source": [
    "# to adjust row labels automatically, set ignore_index to True\n",
    "df3=pd.concat([df1,df2],ignore_index=True)\n",
    "print(df3)"
   ]
  },
  {
   "cell_type": "code",
   "execution_count": 55,
   "metadata": {},
   "outputs": [
    {
     "name": "stdout",
     "output_type": "stream",
     "text": [
      "        id Value1 Value2\n",
      "Data1 0  1      A      B\n",
      "      1  2      C      D\n",
      "      2  3      E      F\n",
      "      3  4      G      H\n",
      "      4  5      I      J\n",
      "Data2 0  2      K      L\n",
      "      1  3      M      N\n",
      "      2  6      O      P\n",
      "      3  7      Q      R\n",
      "      4  8      S      T\n"
     ]
    }
   ],
   "source": [
    "# an option to label the DataFrame\n",
    "merge={'Data1':df1,'Data2':df2}\n",
    "df3=pd.concat(merge)\n",
    "print(df3)"
   ]
  },
  {
   "cell_type": "code",
   "execution_count": 56,
   "metadata": {},
   "outputs": [
    {
     "name": "stdout",
     "output_type": "stream",
     "text": [
      "  id Value1 Value2 id Value1 Value2\n",
      "0  1      A      B  2      K      L\n",
      "1  2      C      D  3      M      N\n",
      "2  3      E      F  6      O      P\n",
      "3  4      G      H  7      Q      R\n",
      "4  5      I      J  8      S      T\n"
     ]
    }
   ],
   "source": [
    "# to concatenate DataFrames along column, specify the axis parameter as 1\n",
    "df3=pd.concat([df1,df2],axis=1)\n",
    "print(df3)"
   ]
  },
  {
   "cell_type": "markdown",
   "metadata": {},
   "source": [
    "# Merge operation in data frame"
   ]
  },
  {
   "cell_type": "code",
   "execution_count": 57,
   "metadata": {},
   "outputs": [],
   "source": [
    "dic3={'id':['1','2','3','4','5','7','8','9','10','11'],\n",
    "       'Value3':[12,13,14,15,16,17,15,12,13,23]}\n",
    "df3=pd.concat([df1,df2])\n",
    "df4=pd.DataFrame(dic3)"
   ]
  },
  {
   "cell_type": "code",
   "execution_count": 58,
   "metadata": {},
   "outputs": [
    {
     "name": "stdout",
     "output_type": "stream",
     "text": [
      "  id Value1 Value2  Value3\n",
      "0  1      A      B      12\n",
      "1  2      C      D      13\n",
      "2  2      K      L      13\n",
      "3  3      E      F      14\n",
      "4  3      M      N      14\n",
      "5  4      G      H      15\n",
      "6  5      I      J      16\n",
      "7  7      Q      R      17\n",
      "8  8      S      T      15\n"
     ]
    }
   ],
   "source": [
    "# join df3 and df4 on the 'id' column\n",
    "df5 = pd.merge(df3, df4, on='id')\n",
    "\n",
    "# print the resulting DataFrame\n",
    "print(df5)"
   ]
  },
  {
   "cell_type": "code",
   "execution_count": 59,
   "metadata": {},
   "outputs": [],
   "source": [
    "# # Merge df3 and df4 on the 'id' column\n",
    "# # Specify 'id' as the column to join on for both DataFrames using left_on and right_on parameters\n",
    "# df5 = pd.merge(df3, df4, left_on='id', right_on='id')\n",
    "\n",
    "# # Print the resulting merged DataFrame\n",
    "# print(df5)"
   ]
  },
  {
   "cell_type": "markdown",
   "metadata": {},
   "source": [
    "# Join operation in data frame"
   ]
  },
  {
   "cell_type": "code",
   "execution_count": 61,
   "metadata": {},
   "outputs": [
    {
     "name": "stdout",
     "output_type": "stream",
     "text": [
      "  id Value1_x Value2_x Value1_y Value2_y\n",
      "0  1        A        B      NaN      NaN\n",
      "1  2        C        D        K        L\n",
      "2  3        E        F        M        N\n",
      "3  4        G        H      NaN      NaN\n",
      "4  5        I        J      NaN      NaN\n",
      "5  6      NaN      NaN        O        P\n",
      "6  7      NaN      NaN        Q        R\n",
      "7  8      NaN      NaN        S        T\n"
     ]
    }
   ],
   "source": [
    "# merge df1 and df2 based on the 'id' column using outer join\n",
    "df3 = pd.merge(df1, df2, on='id', how='outer')\n",
    "\n",
    "# print the resulting DataFrame\n",
    "print(df3)"
   ]
  },
  {
   "cell_type": "code",
   "execution_count": 62,
   "metadata": {},
   "outputs": [
    {
     "name": "stdout",
     "output_type": "stream",
     "text": [
      "  id Value1_left Value2_left Value1_right Value2_right\n",
      "0  1           A           B          NaN          NaN\n",
      "1  2           C           D            K            L\n",
      "2  3           E           F            M            N\n",
      "3  4           G           H          NaN          NaN\n",
      "4  5           I           J          NaN          NaN\n",
      "5  6         NaN         NaN            O            P\n",
      "6  7         NaN         NaN            Q            R\n",
      "7  8         NaN         NaN            S            T\n"
     ]
    }
   ],
   "source": [
    "# Merge df1 and df2 based on the 'id' column using outer join\n",
    "df3 = pd.merge(df1, df2, \n",
    "               left_on='id',    # join on the 'id' column in the left DataFrame (df1)\n",
    "               right_on='id',   # join on the 'id' column in the right DataFrame (df2)\n",
    "               how='outer',     # use outer join to include all rows from both DataFrames\n",
    "               suffixes=('_left', '_right')  # add suffixes to the column names to distinguish between the two DataFrames\n",
    "              )\n",
    "\n",
    "# Print the resulting DataFrame\n",
    "print(df3)"
   ]
  },
  {
   "cell_type": "code",
   "execution_count": 63,
   "metadata": {},
   "outputs": [
    {
     "name": "stdout",
     "output_type": "stream",
     "text": [
      "  id Value1_x Value2_x Value1_y Value2_y\n",
      "0  2        C        D        K        L\n",
      "1  3        E        F        M        N\n"
     ]
    }
   ],
   "source": [
    "# merge df1 and df2 based on the 'id' column using inner join\n",
    "df3 = pd.merge(df1, df2, on='id', how='inner')\n",
    "\n",
    "# print the resulting DataFrame\n",
    "print(df3)"
   ]
  },
  {
   "cell_type": "code",
   "execution_count": 64,
   "metadata": {},
   "outputs": [
    {
     "name": "stdout",
     "output_type": "stream",
     "text": [
      "  id Value1_x Value2_x Value1_y Value2_y\n",
      "0  2        C        D        K        L\n",
      "1  3        E        F        M        N\n",
      "2  6      NaN      NaN        O        P\n",
      "3  7      NaN      NaN        Q        R\n",
      "4  8      NaN      NaN        S        T\n"
     ]
    }
   ],
   "source": [
    "# merge df1 and df2 based on the 'id' column using right join\n",
    "df3 = pd.merge(df1, df2, on='id', how='right')\n",
    "\n",
    "# print the resulting DataFrame\n",
    "print(df3)"
   ]
  },
  {
   "cell_type": "code",
   "execution_count": 65,
   "metadata": {},
   "outputs": [
    {
     "name": "stdout",
     "output_type": "stream",
     "text": [
      "  id Value1_x Value2_x Value1_y Value2_y\n",
      "0  1        A        B      NaN      NaN\n",
      "1  2        C        D        K        L\n",
      "2  3        E        F        M        N\n",
      "3  4        G        H      NaN      NaN\n",
      "4  5        I        J      NaN      NaN\n"
     ]
    }
   ],
   "source": [
    "# merge df1 and df2 based on the 'id' column using left join\n",
    "df3 = pd.merge(df1, df2, on='id', how='left')\n",
    "\n",
    "# print the resulting DataFrame\n",
    "print(df3)"
   ]
  },
  {
   "cell_type": "code",
   "execution_count": 66,
   "metadata": {},
   "outputs": [
    {
     "name": "stdout",
     "output_type": "stream",
     "text": [
      "  id_x Value1_x Value2_x id_y Value1_y Value2_y\n",
      "0    1        A        B    2        K        L\n",
      "1    2        C        D    3        M        N\n",
      "2    3        E        F    6        O        P\n",
      "3    4        G        H    7        Q        R\n",
      "4    5        I        J    8        S        T\n"
     ]
    }
   ],
   "source": [
    "# joining on Index\n",
    "df3 = pd.merge(df1, df2, right_index=True,left_index=True)\n",
    "\n",
    "# print the resulting DataFrame\n",
    "print(df3)"
   ]
  },
  {
   "cell_type": "markdown",
   "metadata": {},
   "source": [
    "# CSV File"
   ]
  },
  {
   "cell_type": "code",
   "execution_count": 67,
   "metadata": {},
   "outputs": [
    {
     "name": "stdout",
     "output_type": "stream",
     "text": [
      "   empid             ename         doj\n",
      "0    101  Sachine Bhardwaj  12-01-2012\n",
      "1    102       Vinod Verma  15-01-2012\n",
      "2    103      Anand Ganesh  05-09-2007\n"
     ]
    }
   ],
   "source": [
    "# making DataFrame\n",
    "df=pd.read_csv(\"emp.csv\")\n",
    "print(df)"
   ]
  },
  {
   "cell_type": "code",
   "execution_count": 68,
   "metadata": {},
   "outputs": [],
   "source": [
    "# Exporting data from dataframe to CSV File\n",
    "df1=pd.DataFrame(l)\n",
    "df1.to_csv('DataFrame1.csv')"
   ]
  },
  {
   "cell_type": "markdown",
   "metadata": {},
   "source": [
    "# Data cleaning"
   ]
  },
  {
   "cell_type": "code",
   "execution_count": 69,
   "metadata": {},
   "outputs": [],
   "source": [
    "# Create a sample dataframe with empty values\n",
    "data = {'Name': ['Alice', 'Bob', 'Charlie', 'Dave', 'Eve', 'Frank', 'Grace'],\n",
    "        'Age': [20, 35, 24, 28, None, 42, 18],\n",
    "        'City': ['New York', None, 'Paris', 'Sydney', 'Tokyo', 'London', None]}\n",
    "df = pd.DataFrame(data)\n",
    "df.to_csv('DataFrame2.csv')"
   ]
  },
  {
   "cell_type": "code",
   "execution_count": 70,
   "metadata": {},
   "outputs": [
    {
     "name": "stdout",
     "output_type": "stream",
     "text": [
      "   Unnamed: 0     Name   Age      City\n",
      "0           0    Alice  20.0  New York\n",
      "2           2  Charlie  24.0     Paris\n",
      "3           3     Dave  28.0    Sydney\n",
      "5           5    Frank  42.0    London\n"
     ]
    }
   ],
   "source": [
    "\n",
    "df=pd.read_csv('DataFrame2.csv')\n",
    "\n",
    "# Drop rows with any empty cells and create a new dataframe\n",
    "new_df = df.dropna()\n",
    "\n",
    "# Print the new dataframe\n",
    "print(new_df.to_string())"
   ]
  },
  {
   "cell_type": "code",
   "execution_count": 71,
   "metadata": {},
   "outputs": [
    {
     "name": "stdout",
     "output_type": "stream",
     "text": [
      "   Unnamed: 0     Name   Age      City\n",
      "0           0    Alice  20.0  New York\n",
      "2           2  Charlie  24.0     Paris\n",
      "3           3     Dave  28.0    Sydney\n",
      "5           5    Frank  42.0    London\n"
     ]
    }
   ],
   "source": [
    "# To change the original DataFrame, use the inplace=True argument:\n",
    "# Remove all rows with NULL values\n",
    "df.dropna(inplace=True)\n",
    "\n",
    "# Print the resulting DataFrame\n",
    "print(df.to_string())"
   ]
  },
  {
   "cell_type": "markdown",
   "metadata": {},
   "source": [
    "# Data of Wrong Format"
   ]
  },
  {
   "cell_type": "code",
   "execution_count": 72,
   "metadata": {},
   "outputs": [
    {
     "name": "stdout",
     "output_type": "stream",
     "text": [
      "     Name       Date   Duration\n",
      "0    John 2022-01-01         30\n",
      "1    Mary 2022-02-01         40\n",
      "2   Steve 2022-03-01         50\n",
      "3  Rachel 2022-04-01         60\n",
      "4     Tom 2022-05-01         70\n",
      "5   Sarah 2022-06-01         80\n",
      "6    Mike 2022-07-01         90\n",
      "7     Amy 2022-08-01        100\n",
      "8   David 2022-09-01        110\n",
      "9     Bob 2022-10-01  two hours\n"
     ]
    }
   ],
   "source": [
    "\"\"\"\n",
    "Cells with data of wrong format can make it difficult, or even impossible, to \n",
    "analyze data.\n",
    "To fix it, you have two options: \n",
    "    i. remove the rows \n",
    "    ii. convert all cells in the columns into the same format.\n",
    "convert all cells in the 'Date' column into dates.\n",
    "\"\"\"\n",
    "df = pd.read_csv('data.csv')\n",
    "df['Date'] = pd.to_datetime(df['Date'])\n",
    "\n",
    "print(df.to_string())"
   ]
  },
  {
   "cell_type": "code",
   "execution_count": 73,
   "metadata": {},
   "outputs": [
    {
     "name": "stdout",
     "output_type": "stream",
     "text": [
      "     Name        Date Duration\n",
      "0    John  2022-01-01       30\n",
      "1    Mary  2022-02-01       40\n",
      "2   Steve  2022-03-01       50\n",
      "3  Rachel  2022-04-01       60\n",
      "4     Tom  2022-05-01       70\n",
      "5   Sarah  2022-06-01       80\n",
      "6    Mike  2022-07-01       90\n",
      "7     Amy  2022-08-01      100\n",
      "8   David  2022-09-01      110\n",
      "9     Bob  2022-10-01      120\n"
     ]
    }
   ],
   "source": [
    "# Pandas - Fixing Wrong Data\n",
    "df = pd.read_csv('data.csv')\n",
    "df.loc[9,'Duration'] = 120\n",
    "\n",
    "print(df.to_string())"
   ]
  }
 ],
 "metadata": {
  "kernelspec": {
   "display_name": "Python 3",
   "language": "python",
   "name": "python3"
  },
  "language_info": {
   "codemirror_mode": {
    "name": "ipython",
    "version": 3
   },
   "file_extension": ".py",
   "mimetype": "text/x-python",
   "name": "python",
   "nbconvert_exporter": "python",
   "pygments_lexer": "ipython3",
   "version": "3.11.3"
  },
  "orig_nbformat": 4
 },
 "nbformat": 4,
 "nbformat_minor": 2
}

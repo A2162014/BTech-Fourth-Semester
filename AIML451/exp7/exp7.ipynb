{
 "cells": [
  {
   "cell_type": "markdown",
   "id": "ca77a519",
   "metadata": {},
   "source": [
    "# Record and Observation"
   ]
  },
  {
   "cell_type": "code",
   "execution_count": 1,
   "id": "fd5f3b21",
   "metadata": {
    "ExecuteTime": {
     "end_time": "2023-04-08T22:26:08.529318Z",
     "start_time": "2023-04-08T22:26:08.520957Z"
    }
   },
   "outputs": [
    {
     "data": {
      "text/plain": [
       "'\\nWrite python programs for the following operations/problem statement.\\na. File operation examples\\n    1. open file\\n    2. write file\\n    3. read file and close file\\nb. splitting line in a text file.\\nc. copy one file content into another file content.\\nd. count number of lines, words, characters in a text file.\\ne. try - except statement example\\nf. try - multiple except statement example\\ng. try - except - else example\\nh. try - except - finally example\\n'"
      ]
     },
     "execution_count": 1,
     "metadata": {},
     "output_type": "execute_result"
    }
   ],
   "source": [
    "\"\"\"\n",
    "Write python programs for the following operations/problem statement.\n",
    "a. File operation examples\n",
    "    1. open file\n",
    "    2. write file\n",
    "    3. read file and close file\n",
    "b. splitting line in a text file.\n",
    "c. copy one file content into another file content.\n",
    "d. count number of lines, words, characters in a text file.\n",
    "e. try - except statement example\n",
    "f. try - multiple except statement example\n",
    "g. try - except - else example\n",
    "h. try - except - finally example\n",
    "\"\"\""
   ]
  },
  {
   "cell_type": "code",
   "execution_count": 2,
   "id": "c19b0df8",
   "metadata": {
    "ExecuteTime": {
     "end_time": "2023-04-08T22:26:08.534942Z",
     "start_time": "2023-04-08T22:26:08.530319Z"
    }
   },
   "outputs": [],
   "source": [
    "# # a.1 File operation example - open file\n",
    "# my_r_file=open(\"2162014.txt\",\"r\")\n",
    "# my_w_file=open(\"2162014.txt\",\"w\")"
   ]
  },
  {
   "cell_type": "code",
   "execution_count": 3,
   "id": "d1ea7534",
   "metadata": {
    "ExecuteTime": {
     "end_time": "2023-04-08T22:26:08.545035Z",
     "start_time": "2023-04-08T22:26:08.535940Z"
    }
   },
   "outputs": [
    {
     "name": "stdout",
     "output_type": "stream",
     "text": [
      "Hello World!\n",
      "\n",
      "I am 2162014.txt, first demo file for experiment 7\n",
      "\n",
      "Who am I? I am YOU.\n"
     ]
    }
   ],
   "source": [
    "# a.2 File operation example - read file\n",
    "my_r_file=open(\"2162014.txt\",\"r\")\n",
    "# print(my_r_file.read())\n",
    "# print(my_r_file.read(6))\n",
    "# print(my_r_file.readline())\n",
    "# print(my_r_file.readline(3))\n",
    "# print(my_r_file.readlines())\n",
    "for line in my_r_file:\n",
    "    print(line)"
   ]
  },
  {
   "cell_type": "code",
   "execution_count": 4,
   "id": "d01b3457",
   "metadata": {
    "ExecuteTime": {
     "end_time": "2023-04-08T22:26:08.551154Z",
     "start_time": "2023-04-08T22:26:08.547037Z"
    }
   },
   "outputs": [],
   "source": [
    "# a.3 File operation example - write file and close file\n",
    "my_w_file=open(\"2162014-demo2.txt\", \"w\")\n",
    "my_w_file.write(\"Hello again!\\n\")\n",
    "my_w_file.write(\"I am 2162014-demo2.txt, second demo file for exp7\\n\")\n",
    "my_w_file.write(\"using write operation\")\n",
    "my_w_file.close()"
   ]
  },
  {
   "cell_type": "code",
   "execution_count": 6,
   "id": "75532de0",
   "metadata": {
    "ExecuteTime": {
     "end_time": "2023-04-08T22:26:34.686467Z",
     "start_time": "2023-04-08T22:26:34.676200Z"
    }
   },
   "outputs": [
    {
     "name": "stdout",
     "output_type": "stream",
     "text": [
      "['Hello', 'World!']\n",
      "['I', 'am', '2162014.txt,', 'first', 'demo', 'file', 'for', 'experiment', '7']\n",
      "['Who', 'am', 'I?', 'I', 'am', 'YOU.']\n"
     ]
    }
   ],
   "source": [
    "# b. splitting line in a text file.\n",
    "fp=open(\"2162014.txt\",\"r\")\n",
    "for line in fp:\n",
    "    words=line.split()\n",
    "    print(words)"
   ]
  },
  {
   "cell_type": "code",
   "execution_count": 7,
   "id": "0e54dda3",
   "metadata": {
    "ExecuteTime": {
     "end_time": "2023-04-08T22:26:34.732111Z",
     "start_time": "2023-04-08T22:26:34.682815Z"
    }
   },
   "outputs": [],
   "source": [
    "# c. Copy one file content into another file content.\n",
    "source = open(\"2162014-demo2.txt\",\"r\")\n",
    "destination = open(\"2162014-demo2(dup).txt\",\"w\")\n",
    "for line in source:\n",
    "    destination.write(line)\n",
    "source.close()\n",
    "destination.close()"
   ]
  },
  {
   "cell_type": "code",
   "execution_count": 8,
   "id": "a55f7f09",
   "metadata": {
    "ExecuteTime": {
     "end_time": "2023-04-08T22:26:34.749174Z",
     "start_time": "2023-04-08T22:26:34.692460Z"
    }
   },
   "outputs": [
    {
     "name": "stdout",
     "output_type": "stream",
     "text": [
      "Number of lines: 3\n",
      "Number of words: 13\n",
      "Number of characters: 84\n"
     ]
    }
   ],
   "source": [
    "# d. Count number of lines, words, characters in a text file.\n",
    "my_r_file=open(\"2162014-demo2(dup).txt\",\"r\")\n",
    "lines=0\n",
    "words=0\n",
    "characters=0\n",
    "for line in my_r_file:\n",
    "    word=line.split()\n",
    "    lines += 1\n",
    "    words += len(word)\n",
    "    characters += len(line)\n",
    "print(\"Number of lines:\", lines)\n",
    "print(\"Number of words:\", words)\n",
    "print(\"Number of characters:\", characters)"
   ]
  },
  {
   "cell_type": "code",
   "execution_count": 13,
   "id": "be6f97ac",
   "metadata": {
    "ExecuteTime": {
     "end_time": "2023-04-08T22:27:39.603086Z",
     "start_time": "2023-04-08T22:27:36.986469Z"
    }
   },
   "outputs": [
    {
     "name": "stdout",
     "output_type": "stream",
     "text": [
      "Division by Zero\n"
     ]
    }
   ],
   "source": [
    "# e. try - except statement example\n",
    "X=int(input(\"Enter the value of X: \"))\n",
    "Y=int(input(\"Enter the value of Y: \"))\n",
    "try:\n",
    "    result = X / ( X - Y )\n",
    "    print(\"Result=\",result)\n",
    "except ZeroDivisionError:\n",
    "    print(\"Division by Zero\")"
   ]
  },
  {
   "cell_type": "code",
   "execution_count": 15,
   "id": "1cd8f786",
   "metadata": {
    "ExecuteTime": {
     "end_time": "2023-04-08T22:28:05.237269Z",
     "start_time": "2023-04-08T22:28:03.145502Z"
    }
   },
   "outputs": [
    {
     "name": "stdout",
     "output_type": "stream",
     "text": [
      "The input must be a number\n"
     ]
    }
   ],
   "source": [
    "# f. try - multiple except statement example\n",
    "try:\n",
    "    x = int(input(\"Enter the value of x: \"))\n",
    "    y = int(input(\"Enter the value of y: \"))\n",
    "    total = x + y\n",
    "    divide = x / y\n",
    "    print(f\"Sum of {x} and {y} = {total}\")\n",
    "    print(f\"Division of {x} and {y} = {divide}\")\n",
    "except ValueError:\n",
    "    print(\"The input must be a number\")\n",
    "except ZeroDivisionError:\n",
    "    print(\"Division by zero is not allowed\")"
   ]
  },
  {
   "cell_type": "code",
   "execution_count": 16,
   "id": "a15c29b4",
   "metadata": {
    "ExecuteTime": {
     "end_time": "2023-04-08T22:28:12.334330Z",
     "start_time": "2023-04-08T22:28:11.042472Z"
    }
   },
   "outputs": [
    {
     "name": "stdout",
     "output_type": "stream",
     "text": [
      "Division by Zero\n"
     ]
    }
   ],
   "source": [
    "# g. try - except - else example\n",
    "X=int(input(\"Enter the value of X: \"))\n",
    "Y=int(input(\"Enter the value of Y: \"))\n",
    "try:\n",
    "    result = X / ( X - Y )\n",
    "except ZeroDivisionError:\n",
    "    print(\"Division by Zero\")\n",
    "else:\n",
    "    print(\"Result=\",result)"
   ]
  },
  {
   "cell_type": "code",
   "execution_count": 27,
   "id": "51032048",
   "metadata": {
    "ExecuteTime": {
     "end_time": "2023-04-08T22:32:06.940620Z",
     "start_time": "2023-04-08T22:32:06.018273Z"
    }
   },
   "outputs": [
    {
     "name": "stdout",
     "output_type": "stream",
     "text": [
      "Division by Zero\n",
      "Result = 0\n"
     ]
    }
   ],
   "source": [
    "# h. try - except - finally example\n",
    "X = int(input(\"Enter the value of X: \"))\n",
    "Y = int(input(\"Enter the value of Y: \"))\n",
    "result = 0 # Initializing result variable with a default value\n",
    "try:\n",
    "    result = X / (X - Y)\n",
    "except ZeroDivisionError:\n",
    "    print(\"Division by Zero\")\n",
    "finally:\n",
    "    print(\"Result =\", result)"
   ]
  }
 ],
 "metadata": {
  "kernelspec": {
   "display_name": "Python 3 (ipykernel)",
   "language": "python",
   "name": "python3"
  },
  "language_info": {
   "codemirror_mode": {
    "name": "ipython",
    "version": 3
   },
   "file_extension": ".py",
   "mimetype": "text/x-python",
   "name": "python",
   "nbconvert_exporter": "python",
   "pygments_lexer": "ipython3",
   "version": "3.11.3"
  }
 },
 "nbformat": 4,
 "nbformat_minor": 5
}

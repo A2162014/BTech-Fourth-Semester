{
 "cells": [
  {
   "cell_type": "markdown",
   "metadata": {},
   "source": [
    "# Observation and Record"
   ]
  },
  {
   "cell_type": "code",
   "execution_count": 1,
   "metadata": {},
   "outputs": [
    {
     "name": "stdout",
     "output_type": "stream",
     "text": [
      "The tuple you entered is: ('0', 'a', 's', 'h', '7')\n",
      "The first element is: 0\n",
      "The last element is: 7\n",
      "The middle elements are: ('a', 's', 'h')\n",
      "Positions \tElements\n",
      "0 \t\t0\n",
      "1 \t\ta\n",
      "2 \t\ts\n",
      "3 \t\th\n",
      "4 \t\t7\n"
     ]
    }
   ],
   "source": [
    "# 1. Access the elements of a tuple in multiple ways, such as indexing, negative indexing, range.\n",
    "\n",
    "# Get a tuple from the user\n",
    "tuple_str = input(\"Enter a tuple of elements, separated by spaces: \")\n",
    "my_tuple = tuple(tuple_str.split(\" \"))\n",
    "\n",
    "# Print the tuple\n",
    "print(\"The tuple you entered is:\", my_tuple)\n",
    "\n",
    "# Access the first element using indexing\n",
    "first_element = my_tuple[0]\n",
    "print(\"The first element is:\", first_element)\n",
    "\n",
    "# Access the last element using negative indexing\n",
    "last_element = my_tuple[-1]\n",
    "print(\"The last element is:\", last_element)\n",
    "\n",
    "# Access a range of elements using slicing\n",
    "middle_elements = my_tuple[1:-1]\n",
    "print(\"The middle elements are:\", middle_elements)\n",
    "\n",
    "# Use a loop to access all elements\n",
    "print(\"Positions \\tElements\")\n",
    "for i, element in enumerate(my_tuple):\n",
    "    print(f\"{i} \\t\\t{element}\")\n"
   ]
  },
  {
   "cell_type": "code",
   "execution_count": 2,
   "metadata": {},
   "outputs": [
    {
     "name": "stdout",
     "output_type": "stream",
     "text": [
      "(0, 7, 0, 2, 2, 0, 0, 3, 'a', 's', 'h', 'v', 'a', 't', 'h')\n"
     ]
    }
   ],
   "source": [
    "# 2. Concatenate two tuples together\n",
    "\n",
    "# Two tuples to concatenate\n",
    "tuple1 = (0, 7, 0, 2, 2, 0, 0, 3)\n",
    "tuple2 = ('a', 's', 'h', 'v', 'a', 't', 'h')\n",
    "\n",
    "# Concatenate the two tuples\n",
    "concatenated_tuple = tuple1 + tuple2\n",
    "\n",
    "# Print the result\n",
    "print(concatenated_tuple)\n"
   ]
  },
  {
   "cell_type": "code",
   "execution_count": 3,
   "metadata": {},
   "outputs": [
    {
     "name": "stdout",
     "output_type": "stream",
     "text": [
      "Original Tuple: (0, 2, 0, 7, 2, 0, 0, 3)\n",
      "Nesting Tuple: ((0, 2, 0, 7, 2, 0, 0, 3), ('a', 's', 'h', 'V', 'A', 'T', 'H'))\n",
      "Sliced Tuple: (0, 7, 2)\n",
      "Deleted Tuple: (0, 2, 7, 2, 0, 0, 3)\n",
      "Updated Tuple: (0, 2, 0, 7, 8, 9)\n",
      "Sorted Tuple: (0, 0, 0, 0, 2, 2, 3, 7)\n",
      "Reversed Tuple: (3, 0, 0, 2, 7, 0, 2, 0)\n"
     ]
    }
   ],
   "source": [
    "\"\"\"\n",
    "3. Create a tuple and perform following the functions on tuple \n",
    "    i. Nesting ii. Slicing iii. Deleting iv. Update v. Sort vi. Reverse\n",
    "\"\"\"\n",
    "\n",
    "# creating a tuple\n",
    "my_tuple = (0, 2, 0, 7, 2, 0, 0, 3)\n",
    "\n",
    "# nesting a tuple\n",
    "nested_tuple = (my_tuple, ('a', 's', 'h', 'V', 'A', 'T', 'H'))\n",
    "\n",
    "# slicing a tuple\n",
    "slice_tuple = my_tuple[2:5]\n",
    "\n",
    "# deleting an element from a tuple\n",
    "list_tuple = list(my_tuple)\n",
    "del list_tuple[2]\n",
    "deleted_tuple = tuple(list_tuple)\n",
    "\n",
    "# updating a tuple\n",
    "updated_tuple = my_tuple[:3] + (7, 8, 9)\n",
    "\n",
    "# sorting a tuple\n",
    "sorted_tuple = tuple(sorted(my_tuple))\n",
    "\n",
    "# reversing a tuple\n",
    "reverse_tuple = my_tuple[::-1]\n",
    "\n",
    "# printing the results\n",
    "print('Original Tuple:', my_tuple)\n",
    "print('Nesting Tuple:', nested_tuple)\n",
    "print('Sliced Tuple:', slice_tuple)\n",
    "print('Deleted Tuple:', deleted_tuple)\n",
    "print('Updated Tuple:', updated_tuple)\n",
    "print('Sorted Tuple:', sorted_tuple)\n",
    "print('Reversed Tuple:', reverse_tuple)"
   ]
  },
  {
   "cell_type": "code",
   "execution_count": 4,
   "metadata": {},
   "outputs": [
    {
     "name": "stdout",
     "output_type": "stream",
     "text": [
      "3 is present in the tuple\n",
      "6 is not present in the tuple\n",
      "The new tuple is: (2, 0, 0, 3, 0, 2, 0, 7, 2, 0, 0, 3, 0, 2, 0, 7)\n",
      "The concatenated tuple is: (2, 0, 0, 3, 0, 2, 0, 7, 4, 2, 0)\n",
      "The third element in the tuple is: 0\n",
      "The sliced tuple is: (0, 0, 3)\n"
     ]
    }
   ],
   "source": [
    "\"\"\"\n",
    "4. Create a tuple and perform following the operations on tuple\n",
    "    1. in\n",
    "    2. not in\n",
    "    3. *\n",
    "    4. +\n",
    "    5. []\n",
    "    6. [:]\n",
    "\"\"\"\n",
    "\n",
    "# Creating a tuple\n",
    "my_tuple = (2, 0, 0, 3, 0, 2, 0, 7)\n",
    "\n",
    "# Using 'in' to check if an element is present in the tuple\n",
    "if 3 in my_tuple:\n",
    "    print(\"3 is present in the tuple\")\n",
    "else:\n",
    "    print(\"3 is not present in the tuple\")\n",
    "\n",
    "# Using 'not in' to check if an element is not present in the tuple\n",
    "if 6 not in my_tuple:\n",
    "    print(\"6 is not present in the tuple\")\n",
    "else:\n",
    "    print(\"6 is present in the tuple\")\n",
    "\n",
    "# Using * to repeat the tuple\n",
    "new_tuple = my_tuple * 2\n",
    "print(\"The new tuple is:\", new_tuple)\n",
    "\n",
    "# Using + to concatenate two tuples\n",
    "other_tuple = (4, 2, 0)\n",
    "concatenated_tuple = my_tuple + other_tuple\n",
    "print(\"The concatenated tuple is:\", concatenated_tuple)\n",
    "\n",
    "# Using [] to access an element in the tuple\n",
    "print(\"The third element in the tuple is:\", my_tuple[2])\n",
    "\n",
    "# Using [:] to slice the tuple\n",
    "sliced_tuple = my_tuple[1:4]\n",
    "print(\"The sliced tuple is:\", sliced_tuple)\n"
   ]
  },
  {
   "cell_type": "code",
   "execution_count": 5,
   "metadata": {},
   "outputs": [
    {
     "name": "stdout",
     "output_type": "stream",
     "text": [
      "List after append operation: [4, 2, 0, 9, 6, 0, 7, 6]\n",
      "List after extend operation: [4, 2, 0, 9, 6, 0, 7, 6, 7, 8, 9]\n",
      "List after insert operation: [4, 2, 0, 10, 9, 6, 0, 7, 6, 7, 8, 9]\n",
      "List after del operation: [4, 2, 0, 9, 6, 0, 7, 6, 7, 8, 9]\n",
      "List after remove operation: [4, 2, 0, 9, 0, 7, 6, 7, 8, 9]\n",
      "List after reverse operation: [9, 8, 7, 6, 7, 0, 9, 0, 2, 4]\n",
      "List after sort operation: [0, 0, 2, 4, 6, 7, 7, 8, 9, 9]\n"
     ]
    }
   ],
   "source": [
    "\"\"\"\n",
    "5. Perform the following Mutable operations on List\n",
    "    a. append b. extend c. insert d. del d. remove e. reverse f. sort\n",
    "\"\"\"\n",
    "\n",
    "#Creating a list\n",
    "lst = [4, 2, 0, 9, 6, 0, 7]\n",
    "\n",
    "#Appending an element to the list\n",
    "lst.append(6)\n",
    "print(\"List after append operation:\",lst)\n",
    "\n",
    "#Extending the list with another list\n",
    "lst2 = [7,8,9]\n",
    "lst.extend(lst2)\n",
    "print(\"List after extend operation:\",lst)\n",
    "\n",
    "#Inserting an element at a specific position\n",
    "lst.insert(3,10)\n",
    "print(\"List after insert operation:\",lst)\n",
    "\n",
    "#Deleting an element by index\n",
    "del lst[3]\n",
    "print(\"List after del operation:\",lst)\n",
    "\n",
    "#Removing an element by value\n",
    "lst.remove(6)\n",
    "print(\"List after remove operation:\",lst)\n",
    "\n",
    "#Reversing the order of elements in the list\n",
    "lst.reverse()\n",
    "print(\"List after reverse operation:\",lst)\n",
    "\n",
    "#Sorting the list in ascending order\n",
    "lst.sort()\n",
    "print(\"List after sort operation:\",lst)"
   ]
  },
  {
   "cell_type": "code",
   "execution_count": 6,
   "metadata": {},
   "outputs": [
    {
     "name": "stdout",
     "output_type": "stream",
     "text": [
      "[6, 9, 6, 2, 4, 0]\n",
      "[2, 0, 4, 2, 0, 4, 2, 0, 4]\n",
      "Smallest element: 0\n",
      "Largest element: 9\n",
      "Number of times 6 occurs in the list: 2\n",
      "Sum of elements in the list: 21\n"
     ]
    }
   ],
   "source": [
    "\"\"\"\n",
    "6. Perform the following\n",
    "    1. concatenate or join two different lists in a new list.\n",
    "    2. replicate a list to the specified number of times\n",
    "    3. returns the smallest element and largest element in a list\n",
    "    4. return the number of times the specified item occurs in the list.\n",
    "    5. Find the sum of the elements in the list\n",
    "\"\"\"\n",
    "\n",
    "# 1. concatenate or join two different lists in a new list.\n",
    "con1 = [6, 9, 6]\n",
    "con2 = [2, 4, 0]\n",
    "new_list = con1 + con2\n",
    "print(new_list)\n",
    "\n",
    "# 2. replicate a list to the specified number of times.\n",
    "list_to_replicate = [2, 0, 4]\n",
    "replicated_list = list_to_replicate * 3\n",
    "print(replicated_list)\n",
    "\n",
    "# 3. returns the smallest element and largest element in a list.\n",
    "smol_larg = [9, 2, 3, 7, 0]\n",
    "print(\"Smallest element:\", min(smol_larg))\n",
    "print(\"Largest element:\", max(smol_larg))\n",
    "\n",
    "# 4. return the number of times the specified item occurs in the list.\n",
    "times = [4, 2, 6, 6, 9, 0, 4]\n",
    "count = times.count(6)\n",
    "print(\"Number of times 6 occurs in the list:\", count)\n",
    "\n",
    "# 5. Find the sum of the elements in the list.\n",
    "sumL = [4, 2, 9, 6, 0]\n",
    "sum_of_elements = sum(sumL)\n",
    "print(\"Sum of elements in the list:\", sum_of_elements)"
   ]
  },
  {
   "cell_type": "code",
   "execution_count": 7,
   "metadata": {},
   "outputs": [
    {
     "name": "stdout",
     "output_type": "stream",
     "text": [
      "The value of 'ashvath' is: 6\n",
      "The updated dictionary is {'ashvath': 6, 'says': 4, 'whynot!': 7}\n",
      "The value associated with 'whynot!' was: 7\n",
      "The updated dictionary is {'ashvath': 6, 'says': 4}\n"
     ]
    }
   ],
   "source": [
    "\"\"\"\n",
    "7.Perform the following Operations on a Dictionary\n",
    "    o Accessing An Element\n",
    "    o Replacing An Element\n",
    "    o Removing An Element\n",
    "\"\"\"\n",
    "\n",
    "# Define a dictionary\n",
    "my_dict = {\"ashvath\": 6, \"says\": 9, \"whynot!\": 7}\n",
    "\n",
    "# Accessing an element with get()\n",
    "value = my_dict.get(\"ashvath\")\n",
    "if value is not None:\n",
    "    print(\"The value of 'ashvath' is:\", value)\n",
    "else:\n",
    "    print(\"The key 'ashvath' is not in the dictionary.\")\n",
    "\n",
    "# Replacing an element with square bracket notation\n",
    "my_dict[\"says\"] = 4\n",
    "print(f\"The updated dictionary is {my_dict}\")\n",
    "\n",
    "# Removing an element with pop()\n",
    "key = \"whynot!\"\n",
    "if key in my_dict:\n",
    "    removed_value = my_dict.pop(key)\n",
    "    print(f\"The value associated with '{key}' was: {removed_value}\")\n",
    "    print(f\"The updated dictionary is {my_dict}\")\n",
    "else:\n",
    "    print(f\"The key '{key}' is not in the dictionary.\")\n",
    "\n"
   ]
  },
  {
   "cell_type": "code",
   "execution_count": 8,
   "metadata": {},
   "outputs": [
    {
     "name": "stdout",
     "output_type": "stream",
     "text": [
      "{'ashvath?': 'yea', 'age': 20, 'why': 'whynot'}\n"
     ]
    }
   ],
   "source": [
    "# 8. Create a dictionary and add the elements to the dictionary\n",
    "\n",
    "# create an empty dictionary\n",
    "my_dict = {}\n",
    "\n",
    "# add elements to the dictionary\n",
    "my_dict['ashvath?'] = 'yea'\n",
    "my_dict['age'] = 20\n",
    "my_dict['why'] = 'whynot'\n",
    "\n",
    "# print the dictionary\n",
    "print(my_dict)\n"
   ]
  },
  {
   "cell_type": "code",
   "execution_count": 9,
   "metadata": {},
   "outputs": [
    {
     "name": "stdout",
     "output_type": "stream",
     "text": [
      "hello\n",
      "from\n",
      "ashvath!\n"
     ]
    }
   ],
   "source": [
    "# 9. Create a dictionary and Iterate through each key in a dictionary using a for loop.\n",
    "\n",
    "# create a dictionary\n",
    "my_dict = {'hello': 4, 'from': 2, 'ashvath!': 0}\n",
    "\n",
    "# iterate through the keys in the dictionary using a for loop\n",
    "for key in my_dict:\n",
    "    print(key)\n"
   ]
  },
  {
   "cell_type": "code",
   "execution_count": 10,
   "metadata": {},
   "outputs": [
    {
     "name": "stdout",
     "output_type": "stream",
     "text": [
      "Original dictionary: {'name': 'Ashvath', 'age': 20, 'email': 'ashvath@whynot.com'}\n",
      "Value of age key: 20\n",
      "Value of phone key: NA\n",
      "List of items in the dictionary: [('name', 'Ashvath'), ('age', 20), ('email', 'ashvath@whynot.com')]\n",
      "List of keys in the dictionary: ['name', 'age', 'email']\n",
      "List of values in the dictionary: ['Ashvath', 20, 'ashvath@whynot.com']\n",
      "Dictionary after removing email key: {'name': 'Ashvath', 'age': 20}\n",
      "Dictionary after popping a non-existent key with default value: {'name': 'Ashvath', 'age': 20}\n",
      "Dictionary after popping an arbitrary key-value pair: {'name': 'Ashvath'}\n",
      "Popped key: age\n",
      "Popped value: 20\n",
      "Dictionary after updating: {'name': 'Ashvath', 'city': 'Bangalore', 'phone': '024-696-4200'}\n",
      "Dictionary after clearing: {}\n"
     ]
    }
   ],
   "source": [
    "\"\"\"\n",
    "10. Demonstarte the usage of Built-in Dictionary Methods\n",
    "d.clear(), d.get(<key>[, <default>]), d.items(), d.keys(), d.values(), d.pop(<key>[, <default>])\n",
    "d.popitem(), d.update(<obj>)\n",
    "\"\"\"\n",
    "\n",
    "# create a dictionary\n",
    "my_dict = {'name': 'Ashvath', 'age': 20, 'email': 'ashvath@whynot.com'}\n",
    "\n",
    "# print the dictionary\n",
    "print('Original dictionary:', my_dict)\n",
    "\n",
    "# get the value of a key\n",
    "age = my_dict.get('age')\n",
    "print('Value of age key:', age)\n",
    "\n",
    "# get the value of a non-existent key\n",
    "phone = my_dict.get('phone', 'NA')\n",
    "print('Value of phone key:', phone)\n",
    "\n",
    "# get a list of all key-value pairs in the dictionary\n",
    "items = list(my_dict.items())\n",
    "print('List of items in the dictionary:', items)\n",
    "\n",
    "# get a list of all keys in the dictionary\n",
    "keys = list(my_dict.keys())\n",
    "print('List of keys in the dictionary:', keys)\n",
    "\n",
    "# get a list of all values in the dictionary\n",
    "values = list(my_dict.values())\n",
    "print('List of values in the dictionary:', values)\n",
    "\n",
    "# remove a key-value pair from the dictionary\n",
    "email = my_dict.pop('email')\n",
    "print('Dictionary after removing email key:', my_dict)\n",
    "\n",
    "# remove a non-existent key-value pair with a default value\n",
    "phone = my_dict.pop('phone', 'NA')\n",
    "print('Dictionary after popping a non-existent key with default value:', my_dict)\n",
    "\n",
    "# pop an arbitrary key-value pair from the dictionary\n",
    "key, value = my_dict.popitem()\n",
    "print('Dictionary after popping an arbitrary key-value pair:', my_dict)\n",
    "print('Popped key:', key)\n",
    "print('Popped value:', value)\n",
    "\n",
    "# update the dictionary with new key-value pairs\n",
    "my_dict.update({'city': 'Bangalore', 'phone': '024-696-4200'})\n",
    "print('Dictionary after updating:', my_dict)\n",
    "\n",
    "# clear the dictionary\n",
    "my_dict.clear() \n",
    "print('Dictionary after clearing:', my_dict)\n"
   ]
  }
 ],
 "metadata": {
  "kernelspec": {
   "display_name": "Python 3",
   "language": "python",
   "name": "python3"
  },
  "language_info": {
   "codemirror_mode": {
    "name": "ipython",
    "version": 3
   },
   "file_extension": ".py",
   "mimetype": "text/x-python",
   "name": "python",
   "nbconvert_exporter": "python",
   "pygments_lexer": "ipython3",
   "version": "3.11.1"
  },
  "orig_nbformat": 4,
  "vscode": {
   "interpreter": {
    "hash": "a228d6f4063c691ded3b5735800af581f06a9ab465b764de0a73c7911eb86ddf"
   }
  }
 },
 "nbformat": 4,
 "nbformat_minor": 2
}

{
 "cells": [
  {
   "attachments": {},
   "cell_type": "markdown",
   "id": "e733ef45",
   "metadata": {},
   "source": [
    "# Observation\n"
   ]
  },
  {
   "cell_type": "code",
   "execution_count": 1,
   "id": "1b7b9ee8",
   "metadata": {},
   "outputs": [
    {
     "name": "stdout",
     "output_type": "stream",
     "text": [
      "The area of the circle is:  123.77875055143787\n"
     ]
    }
   ],
   "source": [
    "# 1. Write a function that takes two points and computes the area of the circle. One point refers the center of the circle and another point refers a point on the perimeter.\n",
    "import math\n",
    "\n",
    "\n",
    "def distance(x1, y1, x2, y2):\n",
    "    dis = ((x2-x1)**2+(y2-y1)**2)**0.5\n",
    "    return dis\n",
    "\n",
    "\n",
    "def area(rad):\n",
    "    a = math.pi*rad**2\n",
    "    return a\n",
    "\n",
    "\n",
    "def area_of_circle(xc, yc, xp, yp):\n",
    "    radius = distance(xc, yc, xp, yp)\n",
    "    result = area(radius)\n",
    "    return result\n",
    "\n",
    "\n",
    "a1 = float(input(\"Enter the xc cordinate: \"))\n",
    "b1 = float(input(\"Enter the yc cordinate: \"))\n",
    "a2 = float(input(\"Enter the xp cordinate: \"))\n",
    "b2 = float(input(\"Enter the yp cordinate: \"))\n",
    "print(\"The area of the circle is: \", area_of_circle(a1, b1, a2, b2))\n"
   ]
  },
  {
   "cell_type": "code",
   "execution_count": 2,
   "id": "a012802e",
   "metadata": {},
   "outputs": [
    {
     "name": "stdout",
     "output_type": "stream",
     "text": [
      "The factorial of 10 is: 3628800\n"
     ]
    }
   ],
   "source": [
    "# 2. To calculate the factorial of a number using Recursion\n",
    "def factorial(n):\n",
    "    fact = 1\n",
    "    if n == 0:\n",
    "        return 1\n",
    "    else:\n",
    "        fact = n*factorial(n-1)\n",
    "        return fact\n",
    "\n",
    "\n",
    "n = int(input(\"Enter the value of n:\"))\n",
    "if n < 0:\n",
    "    print(\"Error: Please enter a non negative integer value for n.\")\n",
    "else:\n",
    "    f = factorial(n)\n",
    "    print(\"The factorial of\", n, \"is:\", f)\n"
   ]
  },
  {
   "cell_type": "code",
   "execution_count": 3,
   "id": "ff03f04c",
   "metadata": {},
   "outputs": [
    {
     "name": "stdout",
     "output_type": "stream",
     "text": [
      "Fibonacci Series: \n",
      "1\n",
      "1\n",
      "2\n",
      "3\n",
      "5\n",
      "8\n",
      "13\n",
      "21\n",
      "34\n",
      "55\n",
      "89\n",
      "144\n"
     ]
    }
   ],
   "source": [
    "# 3. To generate the Fibonacci series of a number using Recursion\n",
    "def fibo(n):\n",
    "    if n < 2:\n",
    "        return 1\n",
    "    return fibo(n-1)+fibo(n-2)\n",
    "\n",
    "\n",
    "n = int(input(\"Enter the value of n: \"))\n",
    "print(\"Fibonacci Series: \")\n",
    "for i in range(n):\n",
    "    print(fibo(i))\n"
   ]
  },
  {
   "cell_type": "code",
   "execution_count": 4,
   "id": "ea16a176",
   "metadata": {},
   "outputs": [
    {
     "name": "stdout",
     "output_type": "stream",
     "text": [
      "Length of string1: 15\n",
      "Uppercase string2: PYTHON\n",
      "Position of 'g' in string3: 8\n",
      "Concatenated string: Python420You are great\n",
      "Split string5 by spaces: ['space', 'in', 'between']\n"
     ]
    }
   ],
   "source": [
    "# 4. Example using minimum 5 string built-in function\n",
    "string1 = \"Hello, Ashvath!\"\n",
    "string2 = \"Python\"\n",
    "string3 = \"You are great\"\n",
    "string4 = \"420\"\n",
    "string5 = \"space in between\"\n",
    "print(\"Length of string1:\", len(string1))\n",
    "print(\"Uppercase string2:\", string2.upper())\n",
    "print(\"Position of 'g' in string3:\", string3.find(\"g\"))\n",
    "print(\"Concatenated string:\", string2+string4+string3)\n",
    "print(\"Split string5 by spaces:\", string5.split(\" \"))\n"
   ]
  },
  {
   "cell_type": "code",
   "execution_count": 5,
   "id": "b24fdc41",
   "metadata": {},
   "outputs": [
    {
     "name": "stdout",
     "output_type": "stream",
     "text": [
      "The GCD of 12 and 4 is 4\n"
     ]
    }
   ],
   "source": [
    "# 5. Write a program using function to find GCD OF TWO NUMBERS\n",
    "def calculate_gcd(num1, num2):\n",
    "    if num1 < 0 or num2 < 0:\n",
    "        return \"Error: Number must be positive\"\n",
    "    if num1 == 0 or num2 == 0:\n",
    "        return \"Error: Number cannot be zero\"\n",
    "    while num2 != 0:\n",
    "        temp = num2\n",
    "        num2 = num1 % num2\n",
    "        num1 = temp\n",
    "    return num1\n",
    "\n",
    "\n",
    "num1 = int(input(\"Enter first number: \"))\n",
    "num2 = int(input(\"Enter second number: \"))\n",
    "result = calculate_gcd(num1, num2)\n",
    "if type(result) == str:\n",
    "    print(result)\n",
    "else:\n",
    "    print(\"The GCD of\", num1, \"and\", num2, \"is\", result, sep=\" \")\n"
   ]
  },
  {
   "cell_type": "code",
   "execution_count": 6,
   "id": "c1779aef",
   "metadata": {},
   "outputs": [
    {
     "name": "stdout",
     "output_type": "stream",
     "text": [
      "8 raised to the power of 2 is 64\n"
     ]
    }
   ],
   "source": [
    "# 6. Write a program using function to find EXPONENTIATION\n",
    "def exponentiation(base, exponent):\n",
    "    if exponent == 0:\n",
    "        return 1\n",
    "    elif exponent < 0:\n",
    "        return 1/exponentiation(base, -exponent)\n",
    "    else:\n",
    "        return base*exponentiation(base, exponent-1)\n",
    "\n",
    "\n",
    "base = int(input(\"Enter the base: \"))\n",
    "exponent = int(input(\"Enter the exponent: \"))\n",
    "result = exponentiation(base, exponent)\n",
    "print(base, \"raised to the power of\", exponent, \"is\", result)\n"
   ]
  },
  {
   "cell_type": "code",
   "execution_count": 7,
   "id": "b7d00dc1",
   "metadata": {},
   "outputs": [
    {
     "name": "stdout",
     "output_type": "stream",
     "text": [
      "Numbers 15 and 15 are equal\n"
     ]
    }
   ],
   "source": [
    "# 7. Write a program using function to check whether two numbers are equal or not.\n",
    "def compare(a, b):\n",
    "    if a == b:\n",
    "        print(\"Numbers\", a, \"and\", b, \"are equal\")\n",
    "    else:\n",
    "        print(\"Numbers\", a, \"and\", b, \"are not equal\")\n",
    "\n",
    "\n",
    "x = int(input('Enter first number:'))\n",
    "y = int(input('Enter second number:'))\n",
    "compare(x, y)\n"
   ]
  },
  {
   "attachments": {},
   "cell_type": "markdown",
   "id": "a2c0548d",
   "metadata": {},
   "source": [
    "# Record\n"
   ]
  },
  {
   "cell_type": "code",
   "execution_count": 8,
   "id": "7fb374da",
   "metadata": {},
   "outputs": [
    {
     "name": "stdout",
     "output_type": "stream",
     "text": [
      "664 is Even\n"
     ]
    }
   ],
   "source": [
    "# 1. Write a program using function and return statement to check whether a number is even or odd.\n",
    "def even_or_odd(n):\n",
    "    if n % 2 == 0:\n",
    "        return f\"{n} is Even\"\n",
    "    else:\n",
    "        return f\"{n} is Odd\"\n",
    "\n",
    "num = int(input(\"Enter a number: \"))\n",
    "print(even_or_odd(num))\n"
   ]
  },
  {
   "cell_type": "code",
   "execution_count": 9,
   "id": "32944e4c",
   "metadata": {},
   "outputs": [
    {
     "name": "stdout",
     "output_type": "stream",
     "text": [
      "Swapped numbers: 23.0 and 15.0\n"
     ]
    }
   ],
   "source": [
    "# 2. Write a program using function to swap two numbers.\n",
    "def swap(a, b):\n",
    "    # You can directly swap the values of a and b without using a temporary variable\n",
    "    a, b = b, a\n",
    "    # Instead of printing the results here, you can return the swapped values\n",
    "    return a, b\n",
    "\n",
    "num1 = float(input(\"Enter first number: \"))\n",
    "num2 = float(input(\"Enter second number: \"))\n",
    "\n",
    "# You can use tuple unpacking to assign the returned swapped values to new variables\n",
    "num1, num2 = swap(num1, num2)\n",
    "\n",
    "# You can use f-strings to format your output message\n",
    "print(f\"Swapped numbers: {num1} and {num2}\")\n"
   ]
  },
  {
   "cell_type": "code",
   "execution_count": 10,
   "id": "c509005e",
   "metadata": {},
   "outputs": [
    {
     "name": "stdout",
     "output_type": "stream",
     "text": [
      "Since the customer is a senior citizen, they are being offered 12% rate of interest.\n",
      "Simple interest: 11.172\n"
     ]
    }
   ],
   "source": [
    "# 3. Write a program using function to calculate simple interest. Suppose the customer is a senior citizen. He is being offered 12 per cent rate of interest; for all other customers, the ROI is 10 per cent.\n",
    "def calculate_simple_interest(citizen, principle, time):\n",
    "    if citizen.lower() == 'y':\n",
    "        roi = 0.12\n",
    "        print(\"Since the customer is a senior citizen, they are being offered 12% rate of interest.\")\n",
    "    else:\n",
    "        roi = 0.1\n",
    "        print(\"Since the customer is not a senior citizen, they are being offered 10% rate of interest.\")\n",
    "    simple_interest = (principle * roi * time) / 100\n",
    "    print(\"Simple interest:\", simple_interest)\n",
    "\n",
    "\n",
    "customer_type = input(\"Is the customer a senior citizen? (Y/N): \")\n",
    "principle_amount = float(input(\"Enter the principle amount: \"))\n",
    "time_period = float(input(\"Enter the time period: \"))\n",
    "calculate_simple_interest(customer_type, principle_amount, time_period)\n"
   ]
  },
  {
   "cell_type": "code",
   "execution_count": 11,
   "id": "7a15c6eb",
   "metadata": {},
   "outputs": [
    {
     "name": "stdout",
     "output_type": "stream",
     "text": [
      "Number of upper case letters: 4\n",
      "Number of lower case letters: 3\n"
     ]
    }
   ],
   "source": [
    "# 4. Write a Python function that accepts a string and calculate the number of upper case letters and lower case letters.\n",
    "def count_upper_lower(s):\n",
    "    upper_count = 0\n",
    "    lower_count = 0\n",
    "    \n",
    "    for char in s:\n",
    "        if char.isupper():\n",
    "            upper_count += 1\n",
    "        elif char.islower():\n",
    "            lower_count += 1\n",
    "    \n",
    "    print(\"Number of upper case letters:\", upper_count)\n",
    "    print(\"Number of lower case letters:\", lower_count)\n",
    "\n",
    "string = input(\"Enter a string: \")\n",
    "count_upper_lower(string)\n",
    "\n"
   ]
  },
  {
   "cell_type": "code",
   "execution_count": 12,
   "id": "6fa36861",
   "metadata": {},
   "outputs": [
    {
     "name": "stdout",
     "output_type": "stream",
     "text": [
      "Element 22 is present at index 5\n"
     ]
    }
   ],
   "source": [
    "# 5. Write a program using function for Binary Search\n",
    "def binary_search(arr, x):\n",
    "    \"\"\"\n",
    "    Searches for the given element x in a sorted array arr using the binary search algorithm.\n",
    "\n",
    "    Args:\n",
    "        arr (list): The sorted input array to search.\n",
    "        x: The element to search for in the array.\n",
    "\n",
    "    Returns:\n",
    "        The index of the first occurrence of the element x in the array if found, otherwise returns -1.\n",
    "    \"\"\"\n",
    "    if len(arr) == 0:\n",
    "        return -1\n",
    "    else:\n",
    "        low = 0\n",
    "        high = len(arr) - 1\n",
    "\n",
    "        while low <= high:\n",
    "            mid = (low + high) // 2\n",
    "            if arr[mid] < x:\n",
    "                low = mid + 1\n",
    "            elif arr[mid] > x:\n",
    "                high = mid - 1\n",
    "            else:\n",
    "                return mid\n",
    "\n",
    "    return -1\n",
    "\n",
    "\n",
    "arr = [1, 3, 7, 9, 16, 22, 35]\n",
    "x = 22\n",
    "if not (type(x) == type(arr[0])):\n",
    "    print(\"Input element is not of the same type as the elements in the input array\")\n",
    "else:\n",
    "    result = binary_search(arr, x)\n",
    "    if result != -1:\n",
    "        print(f\"Element {x} is present at index {result}\")\n",
    "    else:\n",
    "        print(f\"Element {x} is not present in the array\")\n"
   ]
  },
  {
   "cell_type": "code",
   "execution_count": 13,
   "id": "cac5ebe4",
   "metadata": {},
   "outputs": [
    {
     "name": "stdout",
     "output_type": "stream",
     "text": [
      "Found 2 at index 3\n"
     ]
    }
   ],
   "source": [
    "# 6. Write a program using function for Linear Search\n",
    "def linear_search(input_list, search_value):\n",
    "    \"\"\"\n",
    "    Perform a linear search on the given list to find the search value.\n",
    "\n",
    "    :param input_list: list of integers\n",
    "    :param search_value: integer value to search for\n",
    "    :return: the index of the search value if found, else return -1\n",
    "    \"\"\"\n",
    "    if not input_list:\n",
    "        return -1\n",
    "    elif type(search_value) is not int:\n",
    "        print(\"Search value must be an integer\")\n",
    "        return -1\n",
    "    else:\n",
    "        for i in range(len(input_list)):\n",
    "            if input_list[i] == search_value:\n",
    "                return i\n",
    "    return -1\n",
    "\n",
    "\n",
    "array = [6, 9, 35, 2, 44, 25, 1]\n",
    "target_value = 2\n",
    "result_index = linear_search(array, target_value)\n",
    "if result_index != -1:\n",
    "    print(f\"Found {target_value} at index {result_index}\")\n",
    "else:\n",
    "    print(f\"{target_value} was not found in the array\")\n"
   ]
  },
  {
   "cell_type": "code",
   "execution_count": 14,
   "id": "5ffbdfdf",
   "metadata": {},
   "outputs": [
    {
     "name": "stdout",
     "output_type": "stream",
     "text": [
      "Unsorted list: [65, 98, 32, 15, 47]\n",
      "Sorted list: [15, 32, 47, 65, 98]\n"
     ]
    }
   ],
   "source": [
    "# 7. Write a program using function for Sorting (Any Algorithm)\n",
    "def quicksort(unsorted_list):\n",
    "    \"\"\"\n",
    "    Sort a list of integers using the Quick Sort algorithm.\n",
    "\n",
    "    Arguments:\n",
    "    unsorted_list -- The list to be sorted.\n",
    "\n",
    "    Returns:\n",
    "    The sorted list.\n",
    "    \"\"\"\n",
    "    if len(unsorted_list) <= 1:\n",
    "        return unsorted_list\n",
    "\n",
    "    pivot = unsorted_list[0]\n",
    "    left = []\n",
    "    right = []\n",
    "\n",
    "    for i in range(1, len(unsorted_list)):\n",
    "        if unsorted_list[i] < pivot:\n",
    "            left.append(unsorted_list[i])\n",
    "        else:\n",
    "            right.append(unsorted_list[i])\n",
    "\n",
    "    return quicksort(left) + [pivot] + quicksort(right)\n",
    "\n",
    "numbers_input = input(\"Enter the numbers you want to sort, separated by spaces: \")\n",
    "numbers = []\n",
    "for num in numbers_input.split():\n",
    "    numbers.append(int(num))\n",
    "print(\"Unsorted list:\", numbers)\n",
    "sorted_numbers = quicksort(numbers)\n",
    "print(\"Sorted list:\", sorted_numbers)\n"
   ]
  }
 ],
 "metadata": {
  "kernelspec": {
   "display_name": "Python 3",
   "language": "python",
   "name": "python3"
  },
  "language_info": {
   "codemirror_mode": {
    "name": "ipython",
    "version": 3
   },
   "file_extension": ".py",
   "mimetype": "text/x-python",
   "name": "python",
   "nbconvert_exporter": "python",
   "pygments_lexer": "ipython3",
   "version": "3.11.1"
  },
  "vscode": {
   "interpreter": {
    "hash": "a228d6f4063c691ded3b5735800af581f06a9ab465b764de0a73c7911eb86ddf"
   }
  }
 },
 "nbformat": 4,
 "nbformat_minor": 5
}
